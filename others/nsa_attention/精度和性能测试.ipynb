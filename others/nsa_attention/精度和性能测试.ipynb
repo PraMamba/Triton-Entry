{
 "cells": [
  {
   "cell_type": "markdown",
   "metadata": {},
   "source": [
    "# Compress_attn"
   ]
  },
  {
   "cell_type": "code",
   "execution_count": 1,
   "metadata": {},
   "outputs": [],
   "source": [
    "import torch\n",
    "import triton\n",
    "import math\n",
    "from copy import deepcopy\n",
    "import os\n",
    "os.environ['TRITON_PRINT_AUTOTUNING'] = '1'\n",
    "from torch_code import torch_blcok_compress, torch_cmp_attn, flex_cmp_attn\n",
    "from compress_attn import blcok_compress as triton_block_compress\n",
    "from compress_attn import compress_attn as triton_compress_attn"
   ]
  },
  {
   "cell_type": "markdown",
   "metadata": {},
   "source": [
    "## block_compress\n",
    "- 目前这个版本weight是[kernel_size], pe是[kernel_size, v_head_dim / k_head_dim]"
   ]
  },
  {
   "cell_type": "markdown",
   "metadata": {},
   "source": [
    "### 精度"
   ]
  },
  {
   "cell_type": "code",
   "execution_count": 3,
   "metadata": {},
   "outputs": [
    {
     "name": "stdout",
     "output_type": "stream",
     "text": [
      "================================================== forward output:\n",
      "torch   bf16 vs torch fp32: 最大差值: 0.20862579345703125, 平均差值: 0.022884361445903778\n",
      "triton  bf16 vs torch fp32: 最大差值: 0.12482452392578125, 平均差值: 0.01120144035667181\n",
      "================================================== backward input grad:\n",
      "torch   bf16 vs torch fp32: 最大差值: 0.01727294921875, 平均差值: 0.00157164316624403\n",
      "triton  bf16 vs torch fp32: 最大差值: 0.0078125, 平均差值: 0.0010277547407895327\n",
      "================================================== backward weight grad:\n",
      "torch   bf16 vs torch fp32: 最大差值: 56.013671875, 平均差值: 8.716752052307129\n",
      "triton  bf16 vs torch fp32: 最大差值: 56.013671875, 平均差值: 8.567572593688965\n",
      "================================================== backward pe grad:\n",
      "torch   bf16 vs torch fp32: 最大差值: 4.180908203125, 平均差值: 0.731353759765625\n",
      "triton  bf16 vs torch fp32: 最大差值: 3.99853515625, 平均差值: 0.7305139303207397\n"
     ]
    }
   ],
   "source": [
    "device = 'cuda'\n",
    "dtype = torch.bfloat16\n",
    "# 论文中k的配置\n",
    "b, h, n, d = 1, 4, 4096, 192\n",
    "stride = 16\n",
    "kernel_size = 32\n",
    "x1 = torch.randn(b, n, h, d, device=device, dtype=dtype)\n",
    "x1.requires_grad_(True)\n",
    "weight1 = torch.nn.Parameter(torch.randn(kernel_size, device=device, dtype=dtype))\n",
    "pe1 = torch.nn.Parameter(torch.randn(kernel_size, d, device=device, dtype=dtype))\n",
    "x2 = deepcopy(x1)\n",
    "weight2 = deepcopy(weight1)\n",
    "pe2 = deepcopy(pe1)\n",
    "x3 = torch.randn(b, n, h, d, device=device, dtype=torch.float32)\n",
    "x3.requires_grad_(True)\n",
    "weight3 = torch.nn.Parameter(torch.randn(kernel_size, device=device, dtype=torch.float32))\n",
    "pe3 = torch.nn.Parameter(torch.randn(kernel_size, d, device=device, dtype=torch.float32))\n",
    "x3.data.copy_(x1.data)\n",
    "weight3.data.copy_(weight1.data)\n",
    "pe3.data.copy_(pe1.data)\n",
    "\n",
    "y1 = torch_blcok_compress(x1, weight1, pe1, stride)\n",
    "y2 = triton_block_compress(x2, weight2, pe2, stride)\n",
    "y3 = torch_blcok_compress(x3, weight3, pe3, stride)\n",
    "dy = torch.rand_like(y1)\n",
    "y1.backward(dy)\n",
    "y2.backward(dy)\n",
    "y3.backward(dy.float())\n",
    "print('='*50 + ' forward output:')\n",
    "print(f'torch   bf16 vs torch fp32: 最大差值: {(y1-y3).abs().max().item()}, 平均差值: {(y1-y3).abs().mean().item()}')\n",
    "print(f'triton  bf16 vs torch fp32: 最大差值: {(y2-y3).abs().max().item()}, 平均差值: {(y2-y3).abs().mean().item()}')\n",
    "print('='*50 + ' backward input grad:')\n",
    "print(f'torch   bf16 vs torch fp32: 最大差值: {(x1.grad-x3.grad).abs().max().item()}, 平均差值: {(x1.grad-x3.grad).abs().mean().item()}')\n",
    "print(f'triton  bf16 vs torch fp32: 最大差值: {(x2.grad-x3.grad).abs().max().item()}, 平均差值: {(x2.grad-x3.grad).abs().mean().item()}')\n",
    "print('='*50 + ' backward weight grad:')\n",
    "print(f'torch   bf16 vs torch fp32: 最大差值: {(weight1.grad-weight3.grad).abs().max().item()}, 平均差值: {(weight1.grad-weight3.grad).abs().mean().item()}')\n",
    "print(f'triton  bf16 vs torch fp32: 最大差值: {(weight2.grad-weight3.grad).abs().max().item()}, 平均差值: {(weight2.grad-weight3.grad).abs().mean().item()}')\n",
    "print('='*50 + ' backward pe grad:')\n",
    "print(f'torch   bf16 vs torch fp32: 最大差值: {(pe1.grad-pe3.grad).abs().max().item()}, 平均差值: {(pe1.grad-pe3.grad).abs().mean().item()}')\n",
    "print(f'triton  bf16 vs torch fp32: 最大差值: {(pe2.grad-pe3.grad).abs().max().item()}, 平均差值: {(pe2.grad-pe3.grad).abs().mean().item()}')"
   ]
  },
  {
   "cell_type": "markdown",
   "metadata": {},
   "source": [
    "### forward"
   ]
  },
  {
   "cell_type": "code",
   "execution_count": 2,
   "metadata": {},
   "outputs": [
    {
     "data": {
      "image/png": "[encoded data removed]",
      "text/plain": [
       "<Figure size 640x480 with 1 Axes>"
      ]
     },
     "metadata": {},
     "output_type": "display_data"
    },
    {
     "name": "stdout",
     "output_type": "stream",
     "text": [
      "forward:\n",
      "         n    Triton     Torch\n",
      "0   8192.0  0.018637  0.145369\n",
      "1  16384.0  0.030112  0.275428\n",
      "2  24576.0  0.040990  0.412948\n",
      "3  32768.0  0.052366  0.535446\n",
      "4  40960.0  0.062871  0.658381\n",
      "5  49152.0  0.074192  0.776901\n",
      "6  57344.0  0.085014  0.897856\n",
      "7  65536.0  0.095806  1.017664\n"
     ]
    }
   ],
   "source": [
    "torch.cuda.empty_cache()\n",
    "@triton.testing.perf_report(\n",
    "    triton.testing.Benchmark(\n",
    "        x_names=['n'],  # argument names to use as an x-axis for the plot\n",
    "        x_vals=[8192 * i for i in range(1, 8+1)],  # different possible values for `x_name`\n",
    "        line_arg='provider',  # argument name whose value corresponds to a different line in the plot\n",
    "        line_vals=['triton', 'torch'],  # possible values for `line_arg``\n",
    "        line_names=[\n",
    "            \"Triton\",\n",
    "            \"Torch\",\n",
    "        ],  # label name for the lines\n",
    "        styles=[('blue', '-'), ('green', '-')],  # line styles\n",
    "        ylabel=\"ms\",  # label name for the y-axis\n",
    "        plot_name=\"forward\",  # name for the plot. Used also as a file name for saving the plot.\n",
    "        args={'b':1, 'h':4, 'd':128, 'stride':16, 'kernel_size':32},  # values for function arguments not in `x_names` and `y_name`\n",
    "    ))\n",
    "def benchmark(b, provider, h, n, d, stride, kernel_size):\n",
    "    device = 'cuda'\n",
    "    dtype = torch.bfloat16\n",
    "    x = torch.randn(b, n, h, d, device=device, dtype=dtype)\n",
    "    weight = torch.nn.Parameter(torch.randn(kernel_size, device=device, dtype=dtype))\n",
    "    pe = torch.nn.Parameter(torch.randn(kernel_size, d, device=device, dtype=dtype))\n",
    "\n",
    "    stream = torch.cuda.Stream()\n",
    "    torch.cuda.set_stream(stream)\n",
    "    if provider == 'torch':\n",
    "        ms = triton.testing.do_bench(lambda: torch_blcok_compress(x, weight, pe, stride))\n",
    "    if provider == 'triton':\n",
    "        ms = triton.testing.do_bench(lambda: triton_block_compress(x, weight, pe, stride))\n",
    "    return ms\n",
    "benchmark.run(show_plots=True, print_data=True)"
   ]
  },
  {
   "cell_type": "markdown",
   "metadata": {},
   "source": [
    "### backward"
   ]
  },
  {
   "cell_type": "code",
   "execution_count": 2,
   "metadata": {},
   "outputs": [
    {
     "data": {
      "image/png": "[encoded data removed]",
      "text/plain": [
       "<Figure size 640x480 with 1 Axes>"
      ]
     },
     "metadata": {},
     "output_type": "display_data"
    },
    {
     "name": "stdout",
     "output_type": "stream",
     "text": [
      "backward:\n",
      "         n    Triton     Torch\n",
      "0   8192.0  0.154183  0.453055\n",
      "1  16384.0  0.192495  0.516526\n",
      "2  24576.0  0.144959  0.797048\n",
      "3  32768.0  0.146263  1.048884\n",
      "4  40960.0  0.155951  1.273290\n",
      "5  49152.0  0.155707  1.494620\n",
      "6  57344.0  0.174456  1.711335\n",
      "7  65536.0  0.193731  1.927839\n"
     ]
    }
   ],
   "source": [
    "torch.cuda.empty_cache()\n",
    "@triton.testing.perf_report(\n",
    "    triton.testing.Benchmark(\n",
    "        x_names=['n'],  # argument names to use as an x-axis for the plot\n",
    "        x_vals=[8192 * i for i in range(1, 8+1)],  # different possible values for `x_name`\n",
    "        line_arg='provider',  # argument name whose value corresponds to a different line in the plot\n",
    "        line_vals=['triton', 'torch'],  # possible values for `line_arg``\n",
    "        line_names=[\n",
    "            \"Triton\",\n",
    "            \"Torch\",\n",
    "        ],  # label name for the lines\n",
    "        styles=[('blue', '-'), ('green', '-')],  # line styles\n",
    "        ylabel=\"ms\",  # label name for the y-axis\n",
    "        plot_name=\"backward\",  # name for the plot. Used also as a file name for saving the plot.\n",
    "        args={'b':1, 'h':4, 'd':128, 'stride':16, 'kernel_size':32},  # values for function arguments not in `x_names` and `y_name`\n",
    "    ))\n",
    "def benchmark(b, provider, h, n, d, stride, kernel_size):\n",
    "    device = 'cuda'\n",
    "    dtype = torch.bfloat16\n",
    "    x = torch.randn(b, n, h, d, device=device, dtype=dtype)\n",
    "    x.requires_grad_(True)\n",
    "    weight = torch.nn.Parameter(torch.randn(kernel_size, device=device, dtype=dtype))\n",
    "    pe = torch.nn.Parameter(torch.randn(kernel_size, d, device=device, dtype=dtype))\n",
    "\n",
    "    stream = torch.cuda.Stream()\n",
    "    torch.cuda.set_stream(stream)\n",
    "    if provider == 'torch':\n",
    "        y = torch_blcok_compress(x, weight, pe, stride)\n",
    "        dy = torch.randn_like(y)\n",
    "        ms = triton.testing.do_bench(lambda: y.backward(dy, retain_graph=True), grad_to_none=[x, weight, pe])\n",
    "    if provider == 'triton':\n",
    "        y = triton_block_compress(x, weight, pe, stride)\n",
    "        dy = torch.randn_like(y)\n",
    "        ms = triton.testing.do_bench(lambda: y.backward(dy, retain_graph=True), grad_to_none=[x, weight, pe])\n",
    "    return ms\n",
    "benchmark.run(show_plots=True, print_data=True)"
   ]
  },
  {
   "cell_type": "markdown",
   "metadata": {},
   "source": [
    "## attention\n",
    "- 对比三种实现方式"
   ]
  },
  {
   "cell_type": "markdown",
   "metadata": {},
   "source": [
    "### 精度"
   ]
  },
  {
   "cell_type": "code",
   "execution_count": 3,
   "metadata": {},
   "outputs": [],
   "source": [
    "n = 8192 \n",
    "kernel_size = 32\n",
    "stride = 16\n",
    "select_size = 64\n",
    "# flex_attn必须要head_dim是2的指数倍\n",
    "b, qh, kh, d, vd = 1, 64, 4, 128, 128\n",
    "device = 'cuda'\n",
    "dtype = torch.float16\n",
    "num_blocks = (n - kernel_size) // stride + 1\n",
    "q1 = torch.randn(b, n, qh, d, device=device, dtype=dtype)\n",
    "ck1 = torch.randn(b, num_blocks, kh, d, device=device, dtype=dtype)\n",
    "cv1 = torch.randn(b, num_blocks, kh, vd, device=device, dtype=dtype)\n",
    "q1.requires_grad_(True)\n",
    "ck1.requires_grad_(True)\n",
    "cv1.requires_grad_(True)\n",
    "q2 = deepcopy(q1)\n",
    "ck2 = deepcopy(ck1)\n",
    "cv2 = deepcopy(cv1)\n",
    "q3 = deepcopy(q1)\n",
    "ck3 = deepcopy(ck1)\n",
    "cv3 = deepcopy(cv1)"
   ]
  },
  {
   "cell_type": "code",
   "execution_count": 4,
   "metadata": {},
   "outputs": [
    {
     "name": "stdout",
     "output_type": "stream",
     "text": [
      "Triton autotuning for function _bwd_kernel finished after 24.59s; best config selected: BLOCK_SIZE_N: 128, BLOCK_SIZE_M: 64, num_warps: 8, num_ctas: 1, num_stages: 2, num_buffers_warp_spec: 0, num_consumer_groups: 0, reg_dec_producer: 0, reg_inc_consumer: 0, maxnreg: None;\n",
      "========== triton vs torch\n",
      "0.0029296875 \t 5.811452865600586e-05\n",
      "2180.0 \t 43.34375\n",
      "0.03125 \t 0.0009303092956542969\n",
      "0.0625 \t 0.0009222030639648438\n",
      "========== triton vs flex\n",
      "0.001953125 \t 4.559755325317383e-05\n",
      "2180.0 \t 43.34375\n",
      "0.03125 \t 0.0008654594421386719\n",
      "0.0625 \t 0.0007562637329101562\n"
     ]
    }
   ],
   "source": [
    "y1 = torch_cmp_attn(q1, ck1, cv1, kernel_size, stride)\n",
    "\n",
    "y3, lse3 = triton_compress_attn(q3, ck3, cv3, kernel_size, stride)\n",
    "\n",
    "# dy12不是连续的，dy3要求是连续的\n",
    "dy12 = torch.randn_like(y1)\n",
    "dy3 = torch.rand_like(y3)\n",
    "dy3.data.copy_(dy12)\n",
    "\n",
    "y1.backward(dy12)\n",
    "\n",
    "y3.backward(dy3)\n",
    "\n",
    "print('='*10 + ' triton vs torch')\n",
    "print((y1-y3).abs().max().item(), '\\t',(y1-y3).abs().mean().item())\n",
    "print((q1.grad-q3.grad).abs().max().item(), '\\t',(q1.grad-q3.grad).abs().mean().item())\n",
    "print((ck1.grad-ck3.grad).abs().max().item(),'\\t', (ck1.grad-ck3.grad).abs().mean().item())\n",
    "print((cv1.grad-cv3.grad).abs().max().item(),'\\t', (cv1.grad-cv3.grad).abs().mean().item())\n",
    "# 由于是GQA，kv梯度进行bf16的累加，如果是fp32或者fp16会减少误差\n",
    "if math.log2(d).is_integer():\n",
    "    y2 = flex_cmp_attn(q2, ck2, cv2, kernel_size, stride)\n",
    "    y2.backward(dy12)\n",
    "    print('='*10 + ' triton vs flex')\n",
    "    print((y2-y3).abs().max().item(), '\\t',(y2-y3).abs().mean().item())\n",
    "    print((q2.grad-q3.grad).abs().max().item(), '\\t',(q2.grad-q3.grad).abs().mean().item())\n",
    "    print((ck2.grad-ck3.grad).abs().max().item(), '\\t',(ck2.grad-ck3.grad).abs().mean().item()) \n",
    "    print((cv2.grad-cv3.grad).abs().max().item(), '\\t',(cv2.grad-cv3.grad).abs().mean().item())"
   ]
  },
  {
   "cell_type": "markdown",
   "metadata": {},
   "source": [
    "### foward"
   ]
  },
  {
   "cell_type": "code",
   "execution_count": 4,
   "metadata": {},
   "outputs": [
    {
     "data": {
      "image/png": "[encoded data removed]",
      "text/plain": [
       "<Figure size 640x480 with 1 Axes>"
      ]
     },
     "metadata": {},
     "output_type": "display_data"
    },
    {
     "name": "stdout",
     "output_type": "stream",
     "text": [
      "forward:\n",
      "         n     Triton  Torch  Flex\n",
      "0   8192.0   0.361297   10.0  10.0\n",
      "1  16384.0   1.215863   10.0  10.0\n",
      "2  24576.0   2.558983   10.0  10.0\n",
      "3  32768.0   4.402948   10.0  10.0\n",
      "4  40960.0   6.744694   10.0  10.0\n",
      "5  49152.0   9.586657   10.0  10.0\n",
      "6  57344.0  12.945021   10.0  10.0\n",
      "7  65536.0  16.802227   10.0  10.0\n"
     ]
    }
   ],
   "source": [
    "torch.cuda.empty_cache()\n",
    "@triton.testing.perf_report(\n",
    "    triton.testing.Benchmark(\n",
    "        x_names=['n'],  # argument names to use as an x-axis for the plot\n",
    "        x_vals=[8192 * i for i in range(1, 8+1)],  # different possible values for `x_name`\n",
    "        line_arg='provider',  # argument name whose value corresponds to a different line in the plot\n",
    "        line_vals=['triton', 'torch', 'flex'],  # possible values for `line_arg``\n",
    "        line_names=[\n",
    "            \"Triton\",\n",
    "            \"Torch\",\n",
    "            \"Flex\",\n",
    "        ],  # label name for the lines\n",
    "        styles=[('blue', '-'), ('green', '-'), ('red', '-')],  # line styles\n",
    "        ylabel=\"ms\",  # label name for the y-axis\n",
    "        plot_name=\"forward\",  # name for the plot. Used also as a file name for saving the plot.\n",
    "        args={'b':1, 'qh':64, 'kh':4, 'd':128, 'vd':128, 'stride':16, 'kernel_size':32},  # values for function arguments not in `x_names` and `y_name`\n",
    "    ))\n",
    "def benchmark(b, qh, kh, n, d, vd, stride, kernel_size, provider):\n",
    "    device = 'cuda'\n",
    "    dtype = torch.bfloat16\n",
    "    num_blocks = (n - kernel_size) // stride + 1\n",
    "    q = torch.randn(b, n, qh, d, device=device, dtype=dtype)\n",
    "    ck = torch.randn(b, num_blocks, kh, d, device=device, dtype=dtype)\n",
    "    cv = torch.randn(b, num_blocks, kh, vd, device=device, dtype=dtype)\n",
    "    stream = torch.cuda.Stream()\n",
    "    torch.cuda.set_stream(stream)\n",
    "    if provider == 'torch':\n",
    "        return 10\n",
    "        ms = triton.testing.do_bench(lambda: torch_cmp_attn(q, ck, cv, kernel_size, stride))\n",
    "    if provider == 'triton':\n",
    "        ms = triton.testing.do_bench(lambda: triton_compress_attn(q, ck, cv, kernel_size, stride))\n",
    "    if provider == 'flex':\n",
    "        return 10\n",
    "        if not math.log2(d).is_integer():\n",
    "            return 10\n",
    "        ms = triton.testing.do_bench(lambda: flex_cmp_attn(q, ck, cv, kernel_size, stride))\n",
    "    return ms\n",
    "benchmark.run(show_plots=True, print_data=True)"
   ]
  },
  {
   "cell_type": "markdown",
   "metadata": {},
   "source": [
    "### backward"
   ]
  },
  {
   "cell_type": "code",
   "execution_count": 2,
   "metadata": {},
   "outputs": [
    {
     "data": {
      "image/png": "[encoded data removed]",
      "text/plain": [
       "<Figure size 640x480 with 1 Axes>"
      ]
     },
     "metadata": {},
     "output_type": "display_data"
    },
    {
     "name": "stdout",
     "output_type": "stream",
     "text": [
      "backward:\n",
      "         n      Triton  Torch  Flex\n",
      "0   8192.0    3.174631   20.0  20.0\n",
      "1  16384.0   10.422139   20.0  20.0\n",
      "2  24576.0   21.734032   20.0  20.0\n",
      "3  32768.0   36.886909   20.0  20.0\n",
      "4  40960.0   55.984577   20.0  20.0\n",
      "5  49152.0   78.911423   20.0  20.0\n",
      "6  57344.0  105.280960   20.0  20.0\n",
      "7  65536.0  135.000961   20.0  20.0\n"
     ]
    }
   ],
   "source": [
    "torch.cuda.empty_cache()\n",
    "@triton.testing.perf_report(\n",
    "    triton.testing.Benchmark(\n",
    "        x_names=['n'],  # argument names to use as an x-axis for the plot\n",
    "        x_vals=[8192 * i for i in range(1, 8+1)],  # different possible values for `x_name`\n",
    "        line_arg='provider',  # argument name whose value corresponds to a different line in the plot\n",
    "        line_vals=['triton', 'torch', 'flex'],  # possible values for `line_arg``\n",
    "        line_names=[\n",
    "            \"Triton\",\n",
    "            \"Torch\",\n",
    "            \"Flex\",\n",
    "        ],  # label name for the lines\n",
    "        styles=[('blue', '-'), ('green', '-'), ('red', '-')],  # line styles\n",
    "        ylabel=\"ms\",  # label name for the y-axis\n",
    "        plot_name=\"backward\",  # name for the plot. Used also as a file name for saving the plot.\n",
    "        args={'b':1, 'qh':64, 'kh':4, 'd':128, 'vd':128, 'stride':16, 'kernel_size':32},  # values for function arguments not in `x_names` and `y_name`\n",
    "    ))\n",
    "def benchmark(b, qh, kh, n, d,vd, stride, kernel_size, provider):\n",
    "    device = 'cuda'\n",
    "    dtype = torch.bfloat16\n",
    "    num_blocks = (n - kernel_size) // stride + 1\n",
    "    q = torch.randn(b, n, qh, d, device=device, dtype=dtype)\n",
    "    ck = torch.randn(b, num_blocks, kh, d, device=device, dtype=dtype)\n",
    "    cv = torch.randn(b, num_blocks, kh, vd, device=device, dtype=dtype)\n",
    "    q.requires_grad_(True)\n",
    "    ck.requires_grad_(True)\n",
    "    cv.requires_grad_(True)\n",
    "    stream = torch.cuda.Stream()\n",
    "    torch.cuda.set_stream(stream)\n",
    "    if provider == 'torch':\n",
    "        if n > 4096:\n",
    "            return 20\n",
    "        y = torch_cmp_attn(q, ck, cv, kernel_size, stride)\n",
    "        dy = torch.randn_like(y)\n",
    "        ms = triton.testing.do_bench(lambda: y.backward(dy, retain_graph=True), grad_to_none=[q, ck, cv])\n",
    "    if provider == 'triton':\n",
    "        y, _ = triton_compress_attn(q, ck, cv, kernel_size, stride)\n",
    "        dy = torch.randn_like(y)\n",
    "        ms = triton.testing.do_bench(lambda: y.backward(dy, retain_graph=True), grad_to_none=[q, ck, cv])\n",
    "    if provider == 'flex':\n",
    "        if n > 4096:\n",
    "            return 20\n",
    "        if not math.log2(d).is_integer():\n",
    "            return 10\n",
    "        y = flex_cmp_attn(q, ck, cv, kernel_size, stride)\n",
    "        dy = torch.randn_like(y)\n",
    "        ms = triton.testing.do_bench(lambda: y.backward(dy, retain_graph=True), grad_to_none=[q, ck, cv])\n",
    "    return ms\n",
    "benchmark.run(show_plots=True, print_data=True)"
   ]
  },
  {
   "cell_type": "markdown",
   "metadata": {},
   "source": [
    "# Select_attn"
   ]
  },
  {
   "cell_type": "code",
   "execution_count": 1,
   "metadata": {},
   "outputs": [],
   "source": [
    "import torch\n",
    "import triton\n",
    "import math\n",
    "from copy import deepcopy\n",
    "import os\n",
    "os.environ['TRITON_PRINT_AUTOTUNING'] = '1'\n",
    "from torch_code import torch_select_for_fwd, torch_select_attn\n",
    "from select_attn import select_for_fwd_bwd\n",
    "from select_attn import select_attn as triton_select_attn\n",
    "# from exp_family import _attention, select_attn"
   ]
  },
  {
   "cell_type": "markdown",
   "metadata": {},
   "source": [
    "## select"
   ]
  },
  {
   "cell_type": "code",
   "execution_count": 2,
   "metadata": {},
   "outputs": [],
   "source": [
    "n = 8192\n",
    "kernel_size = 32\n",
    "stride = 16\n",
    "select_size = 64\n",
    "top_n = 16\n",
    "# flex_attn必须要head_dim是2的指数倍\n",
    "b, qh, kh, d, vd = 1, 64, 4, 128, 128\n",
    "device = 'cuda'\n",
    "dtype = torch.bfloat16\n",
    "num_blocks = (n - kernel_size) // stride + 1\n",
    "q = torch.randn(b, n, qh, d, device=device, dtype=dtype)\n",
    "ck = torch.randn(b, num_blocks, kh, d, device=device, dtype=dtype)\n",
    "lse = torch.rand(b, qh, n, device=device, dtype=torch.float32) + 4"
   ]
  },
  {
   "cell_type": "code",
   "execution_count": 3,
   "metadata": {},
   "outputs": [
    {
     "name": "stdout",
     "output_type": "stream",
     "text": [
      "tensor(1., device='cuda:0') tensor(0.0085, device='cuda:0')\n",
      "tensor(0.0003, device='cuda:0')\n"
     ]
    }
   ],
   "source": [
    "p1, ind1 = torch_select_for_fwd(q, ck, lse, kernel_size, stride, select_size, top_n)\n",
    "# select操作是不可导的，写前向就行了\n",
    "p2, ind2 = triton_select_for_fwd(q, ck, lse, kernel_size, stride, select_size, top_n, return_p=True)\n",
    "print((p1 - p2).abs().max(), (p1 - p2).abs().mean())\n",
    "print(((p1 - p2).abs() / (p2.abs() + 1e-3)).mean())"
   ]
  },
  {
   "cell_type": "code",
   "execution_count": 4,
   "metadata": {},
   "outputs": [
    {
     "name": "stdout",
     "output_type": "stream",
     "text": [
      "45.77288055419922\n",
      "0.2832818627357483\n"
     ]
    }
   ],
   "source": [
    "print(triton.testing.do_bench(lambda: torch_select_for_fwd(q, ck, lse, kernel_size, stride, select_size, top_n)))\n",
    "print(triton.testing.do_bench(lambda: triton_select_for_fwd(q, ck, lse, kernel_size, stride, select_size, top_n)))"
   ]
  },
  {
   "cell_type": "code",
   "execution_count": 5,
   "metadata": {},
   "outputs": [
    {
     "name": "stdout",
     "output_type": "stream",
     "text": [
      "tensor([[  0, 128, 128,  ..., 128, 128, 128],\n",
      "        [  0, 128, 128,  ..., 128, 128, 128],\n",
      "        [  0, 128, 128,  ..., 128, 128, 128],\n",
      "        ...,\n",
      "        [127,  56,  12,  ...,  64, 111,  48],\n",
      "        [127,  46,   3,  ..., 123,   4,  66],\n",
      "        [127,   7,   1,  ...,  94,  80,  73]], device='cuda:0')\n",
      "tensor([[  0, 128, 128,  ..., 128, 128, 128],\n",
      "        [  0, 128, 128,  ..., 128, 128, 128],\n",
      "        [  0, 128, 128,  ..., 128, 128, 128],\n",
      "        ...,\n",
      "        [127,  56,  12,  ...,  64, 111,  48],\n",
      "        [127,  46,   3,  ..., 123,   4,  37],\n",
      "        [127,   7,   1,  ...,  80,  94,  73]], device='cuda:0',\n",
      "       dtype=torch.int32)\n"
     ]
    }
   ],
   "source": [
    "# 下面这两个不一定完全一样，p的小误差，可能选的就不一样, 大致差不多\n",
    "# 128类似-100，表示不选，比如[0, 63]最多就选一个block\n",
    "print(ind1[0, 0])\n",
    "print(ind2[0, 0])"
   ]
  },
  {
   "cell_type": "code",
   "execution_count": 6,
   "metadata": {},
   "outputs": [
    {
     "name": "stdout",
     "output_type": "stream",
     "text": [
      "tensor([[   0,    1,    2,  ..., 8189, 8190, 8191],\n",
      "        [  64,   65,   66,  ..., 8189, 8190, 8191],\n",
      "        [ 128,  129,  130,  ..., 8188, 8189, 8190],\n",
      "        ...,\n",
      "        [8064, 8065, 8066,  ..., 8189, 8190, 8191],\n",
      "        [8128, 8129, 8130,  ..., 8125, 8126, 8127],\n",
      "        [   0,    1,    2,  ..., 8189, 8190, 8191]], device='cuda:0')\n",
      "tensor([1861, 2490, 3578, 3055, 2593, 2720, 3240, 1814, 2708, 3632, 2351, 2366,\n",
      "        1774, 1797, 2781, 2029, 2265, 1761, 1310, 2753, 1575, 1521, 1557, 1926,\n",
      "         890, 1945, 1222, 1114, 2090, 1253, 2156, 1297, 1145, 1327, 1843, 1747,\n",
      "        1139,  601, 1713, 1748, 1328,  749, 1294, 1503,  828, 1237,  555,  776,\n",
      "         734,  960, 1198,  742, 1002,  677,  916, 1539,  805, 1046,  668,  525,\n",
      "        1249,  500,  768,  449, 1122,  646,  328,  506,  719,  384,  524,  567,\n",
      "         601, 1010,  649,  450,  467,  648,  526,  290,  703,  319,  641,  674,\n",
      "         437,  329,  504,  454,  512,  310,  295,  289,  207,  271,  363,  474,\n",
      "         409,  368,  494,  245,  437,  365,  296,  282,  280,  244,  154,  235,\n",
      "         272,  127,  110,  147,  269,  175,  194,  159,  143,  130,  112,   91,\n",
      "         109,  107,  105,   97,   74,   77,   67,   64,  960], device='cuda:0')\n"
     ]
    }
   ],
   "source": [
    "# 用于attention反向传播，bwd_ind表示kv block被哪个q选了，count表示个数\n",
    "bwd_ind, counts = select_for_bwd(ind2)\n",
    "print(bwd_ind[0, 0])\n",
    "print(counts[0,0])"
   ]
  },
  {
   "cell_type": "markdown",
   "metadata": {},
   "source": [
    "## attention"
   ]
  },
  {
   "cell_type": "markdown",
   "metadata": {},
   "source": [
    "### 精度测试"
   ]
  },
  {
   "cell_type": "code",
   "execution_count": 6,
   "metadata": {},
   "outputs": [],
   "source": [
    "n = 8192\n",
    "kernel_size = 32\n",
    "stride = 16\n",
    "select_size = 64\n",
    "top_n = 16\n",
    "b, qh, kh, d, vd = 1, 64, 4, 128, 128\n",
    "device = 'cuda'\n",
    "dtype = torch.bfloat16\n",
    "num_blocks = (n-kernel_size) // stride + 1\n",
    "q1 = torch.randn(b, n, qh, d, device=device, dtype=dtype)\n",
    "k1 = torch.randn(b, n, kh, d, device=device, dtype=dtype)\n",
    "v1 = torch.randn(b, n, kh, vd, device=device, dtype=dtype)\n",
    "q1.requires_grad_(True)\n",
    "k1.requires_grad_(True)\n",
    "v1.requires_grad_(True)\n",
    "q2 = deepcopy(q1)\n",
    "k2 = deepcopy(k1)\n",
    "v2 = deepcopy(v1)\n",
    "ck1 = torch.randn(b, num_blocks, kh, d, device=device, dtype=dtype)\n",
    "lse = torch.rand(b, qh, n, device=device, dtype=torch.float32) + 10\n",
    "_, fwd_ind, bwd_ind = select_for_fwd_bwd(q1, ck1, lse, kernel_size, stride, select_size, top_n)"
   ]
  },
  {
   "cell_type": "code",
   "execution_count": 9,
   "metadata": {},
   "outputs": [
    {
     "data": {
      "text/plain": [
       "tensor([[   1,    2,    3,  ...,    0,    0,    0],\n",
       "        [   0,    0,    0,  ...,    0,    0,    0],\n",
       "        [   0,    0,    0,  ...,    0, 8191,    0],\n",
       "        ...,\n",
       "        [   0,    0,    0,  ...,    0,    0,    0],\n",
       "        [   0,    0,    0,  ...,    0,    0, 8192],\n",
       "        [   0,    0,    0,  ..., 8190, 8191, 8192]], device='cuda:0',\n",
       "       dtype=torch.int32)"
      ]
     },
     "execution_count": 9,
     "metadata": {},
     "output_type": "execute_result"
    }
   ],
   "source": [
    "bwd_ind[0,0]"
   ]
  },
  {
   "cell_type": "code",
   "execution_count": 8,
   "metadata": {},
   "outputs": [
    {
     "name": "stdout",
     "output_type": "stream",
     "text": [
      "========== triton vs torch\n",
      "0.0234375 0.00024318695068359375\n",
      "0.01953125 0.000255584716796875\n",
      "0.0625 0.000965118408203125\n",
      "0.0625 0.00090789794921875\n"
     ]
    }
   ],
   "source": [
    "\n",
    "y1 = torch_select_attn(q1, k1, v1, select_size, fwd_ind.to(torch.int64))\n",
    "y2 = triton_select_attn(q2, k2, v2, select_size, fwd_ind, bwd_ind, inplace=False)\n",
    "dy1 = torch.randn_like(y1)\n",
    "dy2 = torch.randn_like(y2)\n",
    "dy2.data.copy_(dy1)\n",
    "y1.backward(dy1)\n",
    "y2.backward(dy2)\n",
    "print('='*10 + ' triton vs torch')\n",
    "print((y1-y2).abs().max().item(), (y1-y2).abs().mean().item())\n",
    "print((q1.grad-q2.grad).abs().max().item(), (q1.grad-q2.grad).abs().mean().item())\n",
    "print((k1.grad-k2.grad).abs().max().item(), (k1.grad-k2.grad).abs().mean().item())\n",
    "print((v1.grad-v2.grad).abs().max().item(), (v1.grad-v2.grad).abs().mean().item())"
   ]
  },
  {
   "cell_type": "markdown",
   "metadata": {},
   "source": [
    "### forward"
   ]
  },
  {
   "cell_type": "code",
   "execution_count": 3,
   "metadata": {},
   "outputs": [
    {
     "data": {
      "image/png": "[encoded data removed]",
      "text/plain": [
       "<Figure size 640x480 with 1 Axes>"
      ]
     },
     "metadata": {},
     "output_type": "display_data"
    },
    {
     "name": "stdout",
     "output_type": "stream",
     "text": [
      "forward:\n",
      "         n     Triton  Torch\n",
      "0   8192.0   3.378799   10.0\n",
      "1  16384.0   6.962896   10.0\n",
      "2  24576.0  10.734891   10.0\n",
      "3  32768.0  14.646838   10.0\n",
      "4  40960.0  18.676981   10.0\n",
      "5  49152.0  22.789848   10.0\n",
      "6  57344.0  27.023926   10.0\n",
      "7  65536.0  31.283682   10.0\n"
     ]
    }
   ],
   "source": [
    "torch.cuda.empty_cache()\n",
    "@triton.testing.perf_report(\n",
    "    triton.testing.Benchmark(\n",
    "        x_names=['n'],  # argument names to use as an x-axis for the plot\n",
    "        x_vals=[8192 * i for i in range(1, 8+1)],  # different possible values for `x_name`\n",
    "        line_arg='provider',  # argument name whose value corresponds to a different line in the plot\n",
    "        line_vals=['triton', 'torch'],  # possible values for `line_arg``\n",
    "        line_names=[\n",
    "            \"Triton\",\n",
    "            \"Torch\",\n",
    "        ],  # label name for the lines\n",
    "        styles=[('blue', '-'), ('green', '-')],  # line styles\n",
    "        ylabel=\"ms\",  # label name for the y-axis\n",
    "        plot_name=\"forward\",  # name for the plot. Used also as a file name for saving the plot.\n",
    "        args={'b':1, 'qh':64, 'kh':4, 'd':128, 'vd':128, 'stride':16, 'kernel_size':32, 'select_size': 64, 'top_n':16},  # values for function arguments not in `x_names` and `y_name`\n",
    "    ))\n",
    "def benchmark(b, qh, kh, n, d, vd, stride, kernel_size, select_size, top_n, provider):\n",
    "    device = 'cuda'\n",
    "    dtype = torch.bfloat16\n",
    "    device = 'cuda'\n",
    "    dtype = torch.bfloat16\n",
    "    num_blocks = (n-kernel_size) // stride + 1\n",
    "    q = torch.randn(b, n, qh, d, device=device, dtype=dtype)\n",
    "    k = torch.randn(b, n, kh, d, device=device, dtype=dtype)\n",
    "    v = torch.randn(b, n, kh, vd, device=device, dtype=dtype)\n",
    "    ck = torch.randn(b, num_blocks, kh, d, device=device, dtype=dtype)\n",
    "    lse = torch.rand(b, qh, n, device=device, dtype=torch.float32) + 4\n",
    "    _, fwd_ind, bwd_ind = select_for_fwd_bwd(q, ck, lse, kernel_size, stride, select_size, top_n)\n",
    "    stream = torch.cuda.Stream()\n",
    "    torch.cuda.set_stream(stream)\n",
    "    if provider == 'torch':\n",
    "        return 10\n",
    "        ms = triton.testing.do_bench(lambda: torch_select_attn(q, k, v, select_size, fwd_ind))\n",
    "        # ms = triton.testing.do_bench(lambda: select_attn(q, k, v, select_size, ind))\n",
    "    if provider == 'triton':\n",
    "        # return 10\n",
    "        ms = triton.testing.do_bench(lambda: triton_select_attn(q, k, v, select_size, fwd_ind, bwd_ind))\n",
    "    return ms\n",
    "benchmark.run(show_plots=True, print_data=True)"
   ]
  },
  {
   "cell_type": "markdown",
   "metadata": {},
   "source": [
    "### backward"
   ]
  },
  {
   "cell_type": "code",
   "execution_count": 2,
   "metadata": {},
   "outputs": [
    {
     "data": {
      "image/png": "[encoded data removed]",
      "text/plain": [
       "<Figure size 640x480 with 1 Axes>"
      ]
     },
     "metadata": {},
     "output_type": "display_data"
    },
    {
     "name": "stdout",
     "output_type": "stream",
     "text": [
      "forward:\n",
      "         n      Triton  Torch\n",
      "0   8192.0   17.395512   10.0\n",
      "1  16384.0   30.603638   10.0\n",
      "2  24576.0   41.481262   10.0\n",
      "3  32768.0   53.013088   10.0\n",
      "4  40960.0   68.008163   10.0\n",
      "5  49152.0   82.161057   10.0\n",
      "6  57344.0   90.473022   10.0\n",
      "7  65536.0  105.522141   10.0\n"
     ]
    }
   ],
   "source": [
    "#bwd_ind会被原地修改,得制止下\n",
    "torch.cuda.empty_cache()\n",
    "@triton.testing.perf_report(\n",
    "    triton.testing.Benchmark(\n",
    "        x_names=['n'],  # argument names to use as an x-axis for the plot\n",
    "        x_vals=[8192 * i for i in range(1, 8+1)],  # different possible values for `x_name`\n",
    "        line_arg='provider',  # argument name whose value corresponds to a different line in the plot\n",
    "        line_vals=['triton', 'torch'],  # possible values for `line_arg``\n",
    "        line_names=[\n",
    "            \"Triton\",\n",
    "            \"Torch\",\n",
    "        ],  # label name for the lines\n",
    "        styles=[('blue', '-'), ('green', '-')],  # line styles\n",
    "        ylabel=\"ms\",  # label name for the y-axis\n",
    "        plot_name=\"forward\",  # name for the plot. Used also as a file name for saving the plot.\n",
    "        args={'b':1, 'qh':64, 'kh':4, 'd':128, 'vd':128, 'stride':16, 'kernel_size':32, 'select_size': 64, 'top_n':16},  # values for function arguments not in `x_names` and `y_name`\n",
    "    ))\n",
    "def benchmark(b, qh, kh, n, d, vd, stride, kernel_size, select_size, top_n, provider):\n",
    "    device = 'cuda'\n",
    "    dtype = torch.bfloat16\n",
    "    device = 'cuda'\n",
    "    dtype = torch.bfloat16\n",
    "    num_blocks = (n-kernel_size) // stride + 1\n",
    "    q = torch.randn(b, n, qh, d, device=device, dtype=dtype)\n",
    "    k = torch.randn(b, n, kh, d, device=device, dtype=dtype)\n",
    "    v = torch.randn(b, n, kh, vd, device=device, dtype=dtype)\n",
    "    q.requires_grad_(True)\n",
    "    k.requires_grad_(True)\n",
    "    v.requires_grad_(True)\n",
    "    ck = torch.randn(b, num_blocks, kh, d, device=device, dtype=dtype)\n",
    "    lse = torch.rand(b, qh, n, device=device, dtype=torch.float32) + 10\n",
    "    _, fwd_ind, bwd_ind = select_for_fwd_bwd(q, ck, lse, kernel_size, stride, select_size, top_n)\n",
    "    stream = torch.cuda.Stream()\n",
    "    torch.cuda.set_stream(stream)\n",
    "    if provider == 'torch':\n",
    "        if n>4096:\n",
    "            return 10\n",
    "        y = torch_select_attn(q, k, v, select_size, fwd_ind.long())\n",
    "        dy = torch.rand_like(y)\n",
    "        ms = triton.testing.do_bench(lambda: y.backward(dy, retain_graph=True), grad_to_none=[q, k, v])\n",
    "    if provider == 'triton':\n",
    "        y = triton_select_attn(q, k, v, select_size, fwd_ind, bwd_ind, inplace=False)\n",
    "        dy = torch.rand_like(y)\n",
    "        ms = triton.testing.do_bench(lambda: y.backward(dy, retain_graph=True), grad_to_none=[q, k, v])\n",
    "    return ms\n",
    "benchmark.run(show_plots=True, print_data=True)"
   ]
  },
  {
   "cell_type": "markdown",
   "metadata": {},
   "source": [
    "# NSA_attn\n",
    "- 效果还不是最好，目前知识demo"
   ]
  },
  {
   "cell_type": "code",
   "execution_count": 4,
   "metadata": {},
   "outputs": [],
   "source": [
    "import torch\n",
    "import triton\n",
    "import triton.language as tl\n",
    "import math\n",
    "from copy import deepcopy\n",
    "import os\n",
    "os.environ['TRITON_PRINT_AUTOTUNING'] = '1'\n",
    "from nsa_attn import NsaAttention\n",
    "from flash_attn import flash_attn_func as fa2\n",
    "from flash_attn_interface import flash_attn_func as fa3\n",
    "from triton_flash_attn2 import triton_fa2"
   ]
  },
  {
   "cell_type": "code",
   "execution_count": 7,
   "metadata": {},
   "outputs": [],
   "source": [
    "seed = 11\n",
    "torch.cuda.manual_seed(seed)\n",
    "torch.manual_seed(seed)\n",
    "device = 'cuda'\n",
    "dtype = torch.bfloat16\n",
    "n = 1024 * 64\n",
    "kernel_size = 32\n",
    "stride = 16\n",
    "select_size = 64\n",
    "window_size = 512\n",
    "top_n = 16\n",
    "b, qh, kh, d, vd = 1, 64, 4, 128, 128\n",
    "num_blocks = (n - kernel_size) // stride + 1\n",
    "q1 = torch.randn(b, n, qh, d, device=device, dtype=dtype)\n",
    "k1 = torch.randn(b, n, kh, d, device=device, dtype=dtype)\n",
    "v1 = torch.randn(b, n, kh, vd, device=device, dtype=dtype)\n",
    "ck1 = torch.randn(b, num_blocks//2, kh, d, device=device, dtype=dtype)\n",
    "cv1 = torch.randn(b, num_blocks//2, kh, vd, device=device, dtype=dtype)\n",
    "q1.requires_grad_(True)\n",
    "k1.requires_grad_(True)\n",
    "v1.requires_grad_(True)\n",
    "q2 = deepcopy(q1)\n",
    "k2 = deepcopy(k1)\n",
    "v2 = deepcopy(v1)\n",
    "nsa = NsaAttention(d, vd, kernel_size, stride, select_size, top_n, window_size).to(device).to(dtype)"
   ]
  },
  {
   "cell_type": "code",
   "execution_count": 10,
   "metadata": {},
   "outputs": [
    {
     "name": "stdout",
     "output_type": "stream",
     "text": [
      "0.6590085625648499\n"
     ]
    }
   ],
   "source": [
    "print(triton.testing.do_bench(lambda: deepcopy(q1)))"
   ]
  },
  {
   "cell_type": "code",
   "execution_count": null,
   "metadata": {},
   "outputs": [
    {
     "name": "stdout",
     "output_type": "stream",
     "text": [
      "71.60521697998047\n",
      "272.68804931640625\n",
      "194.8539581298828\n",
      "106.644287109375\n"
     ]
    }
   ],
   "source": [
    "# 4k:  2.44, 1,15, 0.88, 0.45\n",
    "# 8k:  5.23, 4.26, 3.25, 1.73\n",
    "# 32k: 27.37, 67.76, 48.87, 26.80\n",
    "# 64k: 71.60, 272.69, 194.85, 106.64\n",
    "print(triton.testing.do_bench(lambda: nsa(q1, k1, v1)))\n",
    "print(triton.testing.do_bench(lambda: triton_fa2(q1, k1, v1)))\n",
    "print(triton.testing.do_bench(lambda: fa2(q2, k2, v2, causal=True)))\n",
    "print(triton.testing.do_bench(lambda: fa3(q2, k2, v2, causal=True)))"
   ]
  },
  {
   "cell_type": "code",
   "execution_count": null,
   "metadata": {},
   "outputs": [
    {
     "name": "stdout",
     "output_type": "stream",
     "text": [
      "261.24169921875\n",
      "1364.055908203125\n",
      "538.5741577148438\n",
      "292.5318298339844\n"
     ]
    }
   ],
   "source": [
    "# 4k:  11.77, 6.00, 2.48, 1.38\n",
    "# 8k:  22.16, 22.15 ,8.87, 4.95\n",
    "# 32k: 101.37, 344.15, 137.67, 73.31\n",
    "# 64k: 260.22, 1364.79, 538.57, 292.53\n",
    "y1 = nsa(q1, k1, v1, inplace=False)\n",
    "y4, _ = triton_fa2(q1, k1, v1)\n",
    "y2 = fa2(q2, k2, v2, causal=True)\n",
    "y3,_ = fa3(q2, k2, v2, causal=True)\n",
    "dy = torch.randn_like(y1)\n",
    "print(triton.testing.do_bench(lambda: y1.backward(dy, retain_graph=True), grad_to_none=[q1, k1, v1]))\n",
    "print(triton.testing.do_bench(lambda: y4.backward(dy, retain_graph=True), grad_to_none=[q1, k1, v1]))\n",
    "print(triton.testing.do_bench(lambda: y2.backward(dy, retain_graph=True), grad_to_none=[q2, k2, v2]))\n",
    "print(triton.testing.do_bench(lambda: y3.backward(dy, retain_graph=True), grad_to_none=[q2, k2, v2]))"
   ]
  },
  {
   "cell_type": "code",
   "execution_count": null,
   "metadata": {},
   "outputs": [
    {
     "name": "stdout",
     "output_type": "stream",
     "text": [
      "195.43724060058594\n",
      "12.41405200958252\n",
      "106.81769561767578\n",
      "7.1893792152404785\n"
     ]
    }
   ],
   "source": [
    "# print(triton.testing.do_bench(lambda: nsa(q1, k1, v1)))\n",
    "print(triton.testing.do_bench(lambda: fa2(q2, k2, v2, causal=True, )))\n",
    "print(triton.testing.do_bench(lambda: fa2(q1, ck1, cv1)))\n",
    "print(triton.testing.do_bench(lambda: fa3(q2, k2, v2, causal=True)))\n",
    "print(triton.testing.do_bench(lambda: fa3(q1, ck1, cv1)))"
   ]
  },
  {
   "cell_type": "code",
   "execution_count": null,
   "metadata": {},
   "outputs": [],
   "source": [
    "print(triton.testing.do_bench(lambda: fa2(q1, ck1, cv1)))\n",
    "print(triton.testing.do_bench(lambda: fa3(q1, ck1, cv1)))\n",
    "print(triton.testing.do_bench(lambda: fa3(q2, k2, v2, causal=True)))\n"
   ]
  },
  {
   "cell_type": "code",
   "execution_count": 4,
   "metadata": {},
   "outputs": [
    {
     "name": "stdout",
     "output_type": "stream",
     "text": [
      "57.29888153076172\n",
      "273.44354248046875\n",
      "144.70413208007812\n"
     ]
    }
   ],
   "source": [
    "y1 = nsa(q1, k1, v1)\n",
    "y2 = fa2(q2, k2, v2)\n",
    "y3,_ = fa3(q2, k2, v2)\n",
    "dy = torch.randn_like(y1)\n",
    "print(triton.testing.do_bench(lambda: y1.backward(dy, retain_graph=True), grad_to_none=[q1, k1, v1]))\n",
    "print(triton.testing.do_bench(lambda: y2.backward(dy, retain_graph=True), grad_to_none=[q2, k2, v2]))\n",
    "print(triton.testing.do_bench(lambda: y3.backward(dy, retain_graph=True), grad_to_none=[q2, k2, v2]))"
   ]
  },
  {
   "cell_type": "code",
   "execution_count": 4,
   "metadata": {},
   "outputs": [],
   "source": [
    "n = 8192 * 8\n",
    "kernel_size = 32\n",
    "stride = 16\n",
    "select_size = 64\n",
    "top_n = 16\n",
    "# flex_attn必须要head_dim是2的指数倍\n",
    "b, qh, kh, d, vd = 1, 64, 4, 128, 128\n",
    "device = 'cuda'\n",
    "dtype = torch.bfloat16\n",
    "num_blocks = (n - kernel_size) // stride + 1\n",
    "q = torch.randn(b, n, qh, d, device=device, dtype=dtype)\n",
    "ck = torch.randn(b, num_blocks, kh, d, device=device, dtype=dtype)\n",
    "lse = torch.rand(b, qh, n, device=device, dtype=torch.float32) + 4"
   ]
  },
  {
   "cell_type": "code",
   "execution_count": null,
   "metadata": {},
   "outputs": [],
   "source": []
  }
 ],
 "metadata": {
  "kernelspec": {
   "display_name": "Python 3",
   "language": "python",
   "name": "python3"
  },
  "language_info": {
   "codemirror_mode": {
    "name": "ipython",
    "version": 3
   },
   "file_extension": ".py",
   "mimetype": "text/x-python",
   "name": "python",
   "nbconvert_exporter": "python",
   "pygments_lexer": "ipython3",
   "version": "3.12.8"
  }
 },
 "nbformat": 4,
 "nbformat_minor": 2
}
