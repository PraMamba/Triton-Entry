{
 "cells": [
  {
   "cell_type": "code",
   "execution_count": 1,
   "metadata": {},
   "outputs": [
    {
     "name": "stderr",
     "output_type": "stream",
     "text": [
      "/mnt/workspace/mdy/miniforge/envs/mdy/lib/python3.10/site-packages/_distutils_hack/__init__.py:53: UserWarning: Reliance on distutils from stdlib is deprecated. Users must rely on setuptools to provide the distutils module. Avoid importing distutils or import setuptools first, and avoid setting SETUPTOOLS_USE_DISTUTILS=stdlib. Register concerns at https://github.com/pypa/setuptools/issues/new?template=distutils-deprecation.yml\n",
      "  warnings.warn(\n"
     ]
    }
   ],
   "source": [
    "import torch\n",
    "import triton\n",
    "import triton.language as tl\n"
   ]
  },
  {
   "cell_type": "markdown",
   "metadata": {},
   "source": [
    "## 复制"
   ]
  },
  {
   "cell_type": "code",
   "execution_count": 65,
   "metadata": {},
   "outputs": [],
   "source": [
    "@triton.jit\n",
    "def _copy(INPUT, OUTPUT, \n",
    "          stride0, stride1, stride2, stride3,\n",
    "          Z, H, M, D: tl.constexpr, \n",
    "          BLOCK_M: tl.constexpr):\n",
    "    start_m = tl.program_id(0)\n",
    "    # tl.static_print(start_m)\n",
    "    off_hz = tl.program_id(1)\n",
    "    off_h = off_hz % H\n",
    "    off_z = off_hz // H\n",
    "\n",
    "    input_offset = stride0 * off_z + stride1 * off_h\n",
    "    INPUT_ptrs = tl.make_block_ptr(\n",
    "        base=INPUT + input_offset,\n",
    "        shape=(M,D),\n",
    "        offsets=(start_m*BLOCK_M,0),\n",
    "        strides=(stride2, stride3),\n",
    "        block_shape=(BLOCK_M, D),\n",
    "        order=(1,0)\n",
    "    )\n",
    "\n",
    "    OUTPUT_ptrs = tl.make_block_ptr(\n",
    "        base=OUTPUT + input_offset,\n",
    "        shape=(M,D),\n",
    "        offsets=(start_m*BLOCK_M, 0),\n",
    "        strides=(stride2, stride3),\n",
    "        block_shape=(BLOCK_M, D),\n",
    "        order=(1,0)\n",
    "    )\n",
    "    \n",
    "\n",
    "    inp = tl.load(INPUT_ptrs, boundary_check=(1,0), padding_option='zero')\n",
    "    # tl.cat(inp, inp, can_reorder=True)\n",
    "    tl.store(OUTPUT_ptrs, inp, boundary_check=(1,0))\n",
    "    \n",
    "\n",
    "def copy(tensor):\n",
    "    o = torch.empty_like(tensor)\n",
    "    Z,H,M,D = tensor.shape\n",
    "    BLOCK_M=4\n",
    "    grid = lambda meta: (triton.cdiv(M,BLOCK_M), Z*H)\n",
    "    _copy[grid](tensor, o,\n",
    "            tensor.stride(0),tensor.stride(1),tensor.stride(2),tensor.stride(3),\n",
    "                Z,H,M,D,\n",
    "                BLOCK_M=BLOCK_M\n",
    "    )\n",
    "\n",
    "    return o"
   ]
  },
  {
   "cell_type": "code",
   "execution_count": 66,
   "metadata": {},
   "outputs": [
    {
     "data": {
      "text/plain": [
       "True"
      ]
     },
     "execution_count": 66,
     "metadata": {},
     "output_type": "execute_result"
    }
   ],
   "source": [
    "device = 'cuda:0'\n",
    "dtype = torch.float16\n",
    "z,h,m,d = 8,8,128,4\n",
    "a = torch.randn(z,h,m,d, device=device, dtype=dtype)\n",
    "b = copy(a)\n",
    "torch.allclose(a,b)"
   ]
  },
  {
   "cell_type": "markdown",
   "metadata": {},
   "source": [
    "# rotate_half"
   ]
  },
  {
   "cell_type": "markdown",
   "metadata": {},
   "source": [
    "def"
   ]
  },
  {
   "cell_type": "code",
   "execution_count": 9,
   "metadata": {},
   "outputs": [],
   "source": [
    "@triton.jit\n",
    "def _rotate_half(X, Y,\n",
    "                stride_b, stride_h, stride_n, stride_d,\n",
    "                B,H,N,D:  tl.constexpr,\n",
    "                BLOCK_N:  tl.constexpr,\n",
    "                ):\n",
    "    pid_bh = tl.program_id(0)\n",
    "    pid_n = tl.program_id(1)\n",
    "    pid_b = pid_bh // H\n",
    "    pid_h = pid_bh % H\n",
    "\n",
    "    offset = stride_b * pid_b + stride_h * pid_h\n",
    "    X += offset\n",
    "    Y += offset\n",
    "\n",
    "    x_ptrs = tl.make_block_ptr(\n",
    "        base=X,\n",
    "        shape=(N,D),\n",
    "        offsets=(BLOCK_N * pid_n, 0),\n",
    "        strides=(stride_n, stride_d),\n",
    "        block_shape=(BLOCK_N, D),\n",
    "        order=(1,0)\n",
    "    )\n",
    "    y_ptrs = tl.make_block_ptr(\n",
    "        base=Y,\n",
    "        shape=(N,D),\n",
    "        offsets=(BLOCK_N * pid_n, 0),\n",
    "        strides=(stride_n, stride_d),\n",
    "        block_shape=(BLOCK_N, D),\n",
    "        order=(1,0)\n",
    "    )\n",
    "\n",
    "    x = tl.load(x_ptrs, boundary_check=(0,))\n",
    "    y = tl.flip(x, dim=1)\n",
    "    y = tl.view(y, (BLOCK_N, 2, D//2))\n",
    "    y = tl.flip(y, dim=2)\n",
    "    y = tl.view(y, (BLOCK_N, D))\n",
    "    y = tl.where(D//2 <= tl.arange(0, D), y, -y)\n",
    "    tl.store(y_ptrs, y, boundary_check=(0,))\n",
    "\n",
    "\n",
    "\n",
    "def triton_rotate_half(x):\n",
    "    B, H, N, D = x.shape\n",
    "    assert D % 32 == 0\n",
    "    y = torch.empty_like(x)\n",
    "    BLOCK_N = min(triton.next_power_of_2(N), 64)\n",
    "    grid = lambda meta: (B*H, triton.cdiv(N, BLOCK_N))\n",
    "    _rotate_half[grid](x,y,\n",
    "                       *x.stride(),\n",
    "                       B,H,N,D,\n",
    "                       BLOCK_N,\n",
    "                       num_warps=8, num_stages=1\n",
    "\n",
    "    )\n",
    "    return y\n",
    "\n",
    "def rotate_half(x):\n",
    "    \"\"\"Rotates half the hidden dims of the input.\"\"\"\n",
    "    x1 = x[..., : x.shape[-1] // 2]\n",
    "    x2 = x[..., x.shape[-1] // 2 :]\n",
    "    return torch.cat((-x2, x1), dim=-1)\n",
    "\n",
    "\n",
    "def rotate_half2(x):\n",
    "    \"\"\"Rotates half the hidden dims of the input.\"\"\"\n",
    "    x1 = x[..., : x.shape[-1] // 2]\n",
    "    x2 = x[..., x.shape[-1] // 2 :]\n",
    "    return torch.cat((x2, -x1), dim=-1)\n",
    "\n",
    "\n",
    "# Copied from transformers.models.llama.modeling_llama.apply_rotary_pos_emb\n",
    "def apply_rotary_pos_emb(q, k, cos, sin, position_ids=None, unsqueeze_dim=1):\n",
    "    \"\"\"Applies Rotary Position Embedding to the query and key tensors.\n",
    "\n",
    "    Args:\n",
    "        q (`torch.Tensor`): The query tensor.\n",
    "        k (`torch.Tensor`): The key tensor.\n",
    "        cos (`torch.Tensor`): The cosine part of the rotary embedding.\n",
    "        sin (`torch.Tensor`): The sine part of the rotary embedding.\n",
    "        position_ids (`torch.Tensor`, *optional*):\n",
    "            Deprecated and unused.\n",
    "        unsqueeze_dim (`int`, *optional*, defaults to 1):\n",
    "            The 'unsqueeze_dim' argument specifies the dimension along which to unsqueeze cos[position_ids] and\n",
    "            sin[position_ids] so that they can be properly broadcasted to the dimensions of q and k. For example, note\n",
    "            that cos[position_ids] and sin[position_ids] have the shape [batch_size, seq_len, head_dim]. Then, if q and\n",
    "            k have the shape [batch_size, heads, seq_len, head_dim], then setting unsqueeze_dim=1 makes\n",
    "            cos[position_ids] and sin[position_ids] broadcastable to the shapes of q and k. Similarly, if q and k have\n",
    "            the shape [batch_size, seq_len, heads, head_dim], then set unsqueeze_dim=2.\n",
    "    Returns:\n",
    "        `tuple(torch.Tensor)` comprising of the query and key tensors rotated using the Rotary Position Embedding.\n",
    "    \"\"\"\n",
    "    cos = cos.unsqueeze(unsqueeze_dim)\n",
    "    sin = sin.unsqueeze(unsqueeze_dim)\n",
    "    q_embed = (q * cos) + (rotate_half(q) * sin)\n",
    "    k_embed = (k * cos) + (rotate_half(k) * sin)\n",
    "    return q_embed, k_embed"
   ]
  },
  {
   "cell_type": "code",
   "execution_count": 62,
   "metadata": {},
   "outputs": [
    {
     "data": {
      "text/plain": [
       "torch.Size([4, 128, 64, 64])"
      ]
     },
     "execution_count": 62,
     "metadata": {},
     "output_type": "execute_result"
    }
   ],
   "source": [
    "x = torch.randn(4,64 ,128, 64).cuda().transpose(1,2)\n",
    "x.shape"
   ]
  },
  {
   "cell_type": "code",
   "execution_count": 23,
   "metadata": {},
   "outputs": [
    {
     "ename": "NameError",
     "evalue": "name 'x' is not defined",
     "output_type": "error",
     "traceback": [
      "\u001b[0;31m---------------------------------------------------------------------------\u001b[0m",
      "\u001b[0;31mNameError\u001b[0m                                 Traceback (most recent call last)",
      "Cell \u001b[0;32mIn[23], line 1\u001b[0m\n\u001b[0;32m----> 1\u001b[0m y1 \u001b[38;5;241m=\u001b[39m triton_rotate_half(\u001b[43mx\u001b[49m)\n\u001b[1;32m      2\u001b[0m y2 \u001b[38;5;241m=\u001b[39m rotate_half(x)\n\u001b[1;32m      3\u001b[0m torch\u001b[38;5;241m.\u001b[39mallclose(y1[\u001b[38;5;241m0\u001b[39m][\u001b[38;5;241m0\u001b[39m][\u001b[38;5;241m0\u001b[39m], y2[\u001b[38;5;241m0\u001b[39m][\u001b[38;5;241m0\u001b[39m][\u001b[38;5;241m0\u001b[39m])\n",
      "\u001b[0;31mNameError\u001b[0m: name 'x' is not defined"
     ]
    }
   ],
   "source": [
    "y1 = triton_rotate_half(x)\n",
    "y2 = rotate_half(x)\n",
    "torch.allclose(y1[0][0][0], y2[0][0][0])"
   ]
  },
  {
   "cell_type": "code",
   "execution_count": 24,
   "metadata": {},
   "outputs": [
    {
     "data": {
      "text/plain": [
       "tensor([-0.2572,  0.1183, -1.4267, -0.2122,  0.9832,  0.6093, -0.2586, -0.2049,\n",
       "         3.0891, -0.2464,  0.9524,  0.7513, -2.7283, -1.1546, -1.1360, -0.9803,\n",
       "        -0.2092,  0.6473,  3.5096, -0.4503, -2.0130,  0.5758,  0.7775,  0.9436,\n",
       "         0.4559,  2.3994, -1.8098,  2.1824, -1.1935,  1.4013, -0.3436, -0.5028,\n",
       "         1.5051, -1.1040,  0.3131,  1.1901,  1.3044, -0.9019, -1.2243, -1.1132,\n",
       "         1.8181, -0.5418, -0.3229, -0.4776, -1.5151,  1.3182, -0.2117,  0.0931,\n",
       "        -1.2636, -2.1016,  1.1561,  0.4012,  0.1271,  1.4285,  0.2166, -1.5709,\n",
       "         0.2182, -1.3152,  1.0969, -3.0529,  1.8627,  2.0502,  0.7951,  1.5089])"
      ]
     },
     "execution_count": 24,
     "metadata": {},
     "output_type": "execute_result"
    }
   ],
   "source": [
    "q = torch.randn(4, 8, 128, 64)\n",
    "q.requires_grad_(True)\n",
    "k = torch.randn_like(q)\n",
    "k.requires_grad_(True)\n",
    "cos = torch.randn(4, 128, 64)\n",
    "sin = torch.randn_like(cos)\n",
    "y1, y2 = apply_rotary_pos_emb(q,k,cos, sin)\n",
    "(y1 + y2).sum().backward()\n",
    "q.grad[0][0][0]"
   ]
  },
  {
   "cell_type": "code",
   "execution_count": 32,
   "metadata": {},
   "outputs": [
    {
     "data": {
      "text/plain": [
       "True"
      ]
     },
     "execution_count": 32,
     "metadata": {},
     "output_type": "execute_result"
    }
   ],
   "source": [
    "q.grad.is_contiguous()"
   ]
  },
  {
   "cell_type": "code",
   "execution_count": 28,
   "metadata": {},
   "outputs": [
    {
     "data": {
      "text/plain": [
       "tensor([[[[-2.5717e-01,  1.1831e-01, -1.4267e+00,  ...,  1.4013e+00,\n",
       "           -3.4363e-01, -5.0278e-01],\n",
       "          [ 1.5051e+00, -1.1040e+00,  3.1310e-01,  ...,  2.0502e+00,\n",
       "            7.9514e-01,  1.5089e+00]],\n",
       "\n",
       "         [[-1.1497e+00, -2.4273e-01, -4.7487e-01,  ...,  2.4568e+00,\n",
       "           -2.3628e-02, -3.5988e+00],\n",
       "          [ 6.0496e-01, -4.8472e-01,  2.6671e-01,  ..., -2.5075e+00,\n",
       "           -1.0042e+00,  8.9769e-01]],\n",
       "\n",
       "         [[ 6.8940e-01, -1.1194e+00, -1.7104e+00,  ..., -3.4532e-01,\n",
       "           -3.2366e+00,  1.1030e+00],\n",
       "          [ 1.2432e+00, -9.3682e-01, -1.2761e+00,  ...,  3.7805e-02,\n",
       "            4.8026e-02,  7.3264e-01]],\n",
       "\n",
       "         ...,\n",
       "\n",
       "         [[ 2.6969e+00,  9.8474e-01,  7.4240e-01,  ..., -5.0544e-01,\n",
       "            1.3220e-04,  1.3742e-01],\n",
       "          [-1.5116e-01, -1.0517e-01, -7.2030e-02,  ..., -1.8224e+00,\n",
       "            4.0523e-01,  5.1464e-01]],\n",
       "\n",
       "         [[ 1.2590e+00, -1.1228e+00,  1.2757e+00,  ..., -1.1118e+00,\n",
       "            5.6620e-01,  2.2423e-01],\n",
       "          [-1.4035e+00, -1.6612e-01, -1.1189e-01,  ..., -1.4325e+00,\n",
       "            1.5153e+00, -8.0358e-01]],\n",
       "\n",
       "         [[-6.8971e-01,  3.7374e-01,  5.9226e-01,  ..., -2.5902e+00,\n",
       "           -2.5131e-01,  1.8975e+00],\n",
       "          [ 2.9269e-01,  2.6843e-01,  2.3345e-01,  ...,  1.9724e+00,\n",
       "           -1.9418e+00,  9.1926e-02]]]])"
      ]
     },
     "execution_count": 28,
     "metadata": {},
     "output_type": "execute_result"
    }
   ],
   "source": [
    "grad_q = (cos + rotate_half2(sin)).reshape(4, 128, 2, -1).unsqueeze(1)\n",
    "grad_q[0]\n"
   ]
  },
  {
   "cell_type": "code",
   "execution_count": 4,
   "metadata": {},
   "outputs": [
    {
     "data": {
      "text/plain": [
       "True"
      ]
     },
     "execution_count": 4,
     "metadata": {},
     "output_type": "execute_result"
    }
   ],
   "source": [
    "x = torch.randn(4,5,6,8)\n",
    "y = torch.randn(4,5,6,8)\n",
    "x.transpose(1,2).transpose(1,2).is_contiguous()"
   ]
  },
  {
   "cell_type": "code",
   "execution_count": 8,
   "metadata": {},
   "outputs": [
    {
     "data": {
      "text/plain": [
       "True"
      ]
     },
     "execution_count": 8,
     "metadata": {},
     "output_type": "execute_result"
    }
   ],
   "source": [
    "torch.cat([x,y], axis=2).is_contiguous()"
   ]
  },
  {
   "cell_type": "code",
   "execution_count": 10,
   "metadata": {},
   "outputs": [
    {
     "data": {
      "text/plain": [
       "True"
      ]
     },
     "execution_count": 10,
     "metadata": {},
     "output_type": "execute_result"
    }
   ],
   "source": [
    "z = rotate_half(x)\n",
    "z.is_contiguous()"
   ]
  },
  {
   "cell_type": "code",
   "execution_count": null,
   "metadata": {},
   "outputs": [],
   "source": []
  }
 ],
 "metadata": {
  "kernelspec": {
   "display_name": "Python 3",
   "language": "python",
   "name": "python3"
  },
  "language_info": {
   "codemirror_mode": {
    "name": "ipython",
    "version": 3
   },
   "file_extension": ".py",
   "mimetype": "text/x-python",
   "name": "python",
   "nbconvert_exporter": "python",
   "pygments_lexer": "ipython3",
   "version": "3.10.13"
  }
 },
 "nbformat": 4,
 "nbformat_minor": 2
}
