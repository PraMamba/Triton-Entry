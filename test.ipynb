{
 "cells": [
  {
   "cell_type": "code",
   "execution_count": 1,
   "metadata": {},
   "outputs": [
    {
     "name": "stderr",
     "output_type": "stream",
     "text": [
      "/mnt/workspace/mdy/miniforge/envs/mdy/lib/python3.10/site-packages/tqdm/auto.py:21: TqdmWarning: IProgress not found. Please update jupyter and ipywidgets. See https://ipywidgets.readthedocs.io/en/stable/user_install.html\n",
      "  from .autonotebook import tqdm as notebook_tqdm\n"
     ]
    }
   ],
   "source": [
    "from train_model.utils import DistributedDS\n",
    "from transformers import AutoTokenizer"
   ]
  },
  {
   "cell_type": "code",
   "execution_count": 2,
   "metadata": {},
   "outputs": [],
   "source": [
    "tokenizer = AutoTokenizer.from_pretrained('/mnt/workspace/mdy/models/Qwen2.5-0.5B')"
   ]
  },
  {
   "cell_type": "code",
   "execution_count": 3,
   "metadata": {},
   "outputs": [],
   "source": [
    "tokenizer.bos_token_id = 151644\n",
    "tokenizer.eos_token_id = 151645"
   ]
  },
  {
   "cell_type": "code",
   "execution_count": 4,
   "metadata": {},
   "outputs": [
    {
     "name": "stdout",
     "output_type": "stream",
     "text": [
      "/mnt/workspace/mdy/data/train_data/intruct_v1.json\n",
      "/mnt/workspace/mdy/data/train_data/choose_qa/part_0000.json\n",
      "/mnt/workspace/mdy/data/train_data/choose_qa/part_0001.json\n",
      "/mnt/workspace/mdy/data/train_data/choose_qa/part_0002.json\n",
      "/mnt/workspace/mdy/data/train_data/choose_qa/part_0003.json\n",
      "/mnt/workspace/mdy/data/train_data/choose_qa/part_0004.json\n",
      "/mnt/workspace/mdy/data/train_data/low_math/part_0000.json\n",
      "/mnt/workspace/mdy/data/train_data/low_math/part_0001.json\n",
      "/mnt/workspace/mdy/data/train_data/low_math/part_0002.json\n",
      "/mnt/workspace/mdy/data/train_data/low_math/part_0003.json\n",
      "/mnt/workspace/mdy/data/train_data/low_math/part_0004.json\n",
      "/mnt/workspace/mdy/data/train_data/low_math/part_0005.json\n",
      "/mnt/workspace/mdy/data/train_data/low_math/part_0006.json\n",
      "/mnt/workspace/mdy/data/train_data/low_math/part_0007.json\n",
      "/mnt/workspace/mdy/data/train_data/low_math/part_0008.json\n",
      "/mnt/workspace/mdy/data/train_data/low_math/part_0009.json\n"
     ]
    }
   ],
   "source": [
    "data_paths = ['/mnt/workspace/mdy/data/train_data/intruct_v1.json',\n",
    "              '/mnt/workspace/mdy/data/train_data/choose_qa/*',\n",
    "              '/mnt/workspace/mdy/data/train_data/low_math/*']\n",
    "ds = DistributedDS(data_paths, tokenizer)"
   ]
  },
  {
   "cell_type": "code",
   "execution_count": 5,
   "metadata": {},
   "outputs": [
    {
     "data": {
      "text/plain": [
       "364317"
      ]
     },
     "execution_count": 5,
     "metadata": {},
     "output_type": "execute_result"
    }
   ],
   "source": [
    "len(ds)"
   ]
  },
  {
   "cell_type": "code",
   "execution_count": null,
   "metadata": {},
   "outputs": [],
   "source": []
  }
 ],
 "metadata": {
  "kernelspec": {
   "display_name": "Python 3",
   "language": "python",
   "name": "python3"
  },
  "language_info": {
   "codemirror_mode": {
    "name": "ipython",
    "version": 3
   },
   "file_extension": ".py",
   "mimetype": "text/x-python",
   "name": "python",
   "nbconvert_exporter": "python",
   "pygments_lexer": "ipython3",
   "version": "3.10.13"
  }
 },
 "nbformat": 4,
 "nbformat_minor": 2
}
