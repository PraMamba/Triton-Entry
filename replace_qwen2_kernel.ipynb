{
 "cells": [
  {
   "cell_type": "code",
   "execution_count": 1,
   "metadata": {},
   "outputs": [
    {
     "name": "stderr",
     "output_type": "stream",
     "text": [
      "/mnt/workspace/mdy/miniforge/envs/mdy/lib/python3.10/site-packages/tqdm/auto.py:21: TqdmWarning: IProgress not found. Please update jupyter and ipywidgets. See https://ipywidgets.readthedocs.io/en/stable/user_install.html\n",
      "  from .autonotebook import tqdm as notebook_tqdm\n"
     ]
    }
   ],
   "source": [
    "import os\n",
    "import torch\n",
    "import importlib\n",
    "module = importlib.import_module('transformers.models.qwen2.modeling_qwen2')\n",
    "from transformers import AutoConfig\n",
    "import time\n",
    "from transformers.models.qwen2.modeling_qwen2 import *\n",
    "from copy import deepcopy\n",
    "from tqdm import tqdm"
   ]
  },
  {
   "cell_type": "code",
   "execution_count": 2,
   "metadata": {},
   "outputs": [],
   "source": [
    "\n",
    "config = AutoConfig.from_pretrained('/mnt/workspace/mdy/models/Qwen2.5-7B-Instruct')\n",
    "dtype = torch.bfloat16\n",
    "bs = 8\n",
    "seq_len = 2048\n",
    "iters = 512\n",
    "old = Qwen2DecoderLayer(config, layer_idx=0).cuda().to(dtype)\n",
    "x = torch.randn(bs, seq_len, config.hidden_size).cuda().to(dtype)\n",
    "x.requires_grad_(True)\n",
    "cos = torch.randn(bs, seq_len, config.hidden_size//config.num_attention_heads).cuda().to(dtype)\n",
    "sin = torch.rand_like(cos)\n",
    "dy = torch.randn_like(x)"
   ]
  },
  {
   "cell_type": "code",
   "execution_count": null,
   "metadata": {},
   "outputs": [
    {
     "name": "stderr",
     "output_type": "stream",
     "text": [
      "  0%|          | 0/512 [00:00<?, ?it/s]/mnt/workspace/mdy/miniforge/envs/mdy/lib/python3.10/site-packages/torch/autograd/graph.py:825: UserWarning: Attempting to run cuBLAS, but there was no current CUDA context! Attempting to set the primary context... (Triggered internally at ../aten/src/ATen/cuda/CublasHandlePool.cpp:135.)\n",
      "  return Variable._execution_engine.run_backward(  # Calls into the C++ engine to run the backward pass\n",
      " 27%|██▋       | 137/512 [00:21<01:00,  6.18it/s]"
     ]
    }
   ],
   "source": [
    "torch.cuda.empty_cache()\n",
    "t = time.time()\n",
    "for i in tqdm(range(iters)):\n",
    "    old_y = old(x, position_embeddings=(cos,sin))[0]\n",
    "    old_y.backward(dy)\n",
    "t1 = time.time() - t\n",
    "t1"
   ]
  },
  {
   "cell_type": "code",
   "execution_count": 3,
   "metadata": {},
   "outputs": [
    {
     "name": "stderr",
     "output_type": "stream",
     "text": [
      "/mnt/workspace/mdy/miniforge/envs/mdy/lib/python3.10/site-packages/torch/autograd/graph.py:825: UserWarning: Attempting to run cuBLAS, but there was no current CUDA context! Attempting to set the primary context... (Triggered internally at ../aten/src/ATen/cuda/CublasHandlePool.cpp:135.)\n",
      "  return Variable._execution_engine.run_backward(  # Calls into the C++ engine to run the backward pass\n"
     ]
    }
   ],
   "source": [
    "if x.grad is not None:\n",
    "    x.grad.zero_()\n",
    "old_y = old(x, position_embeddings=(cos,sin))[0]\n",
    "old_y.backward(dy)\n",
    "old_grad = deepcopy(x.grad)\n"
   ]
  },
  {
   "cell_type": "code",
   "execution_count": 3,
   "metadata": {},
   "outputs": [
    {
     "name": "stderr",
     "output_type": "stream",
     "text": [
      "/mnt/workspace/mdy/miniforge/envs/mdy/lib/python3.10/site-packages/_distutils_hack/__init__.py:53: UserWarning: Reliance on distutils from stdlib is deprecated. Users must rely on setuptools to provide the distutils module. Avoid importing distutils or import setuptools first, and avoid setting SETUPTOOLS_USE_DISTUTILS=stdlib. Register concerns at https://github.com/pypa/setuptools/issues/new?template=distutils-deprecation.yml\n",
      "  warnings.warn(\n"
     ]
    }
   ],
   "source": [
    "from replace_qwen2_kernel import trigger"
   ]
  },
  {
   "cell_type": "code",
   "execution_count": 4,
   "metadata": {},
   "outputs": [
    {
     "name": "stdout",
     "output_type": "stream",
     "text": [
      "1\n"
     ]
    },
    {
     "name": "stderr",
     "output_type": "stream",
     "text": [
      "/mnt/workspace/mdy/miniforge/envs/mdy/lib/python3.10/site-packages/torch/autograd/graph.py:825: UserWarning: Attempting to run cuBLAS, but there was no current CUDA context! Attempting to set the primary context... (Triggered internally at ../aten/src/ATen/cuda/CublasHandlePool.cpp:135.)\n",
      "  return Variable._execution_engine.run_backward(  # Calls into the C++ engine to run the backward pass\n"
     ]
    }
   ],
   "source": [
    "if x.grad is not None:\n",
    "    x.grad.zero_()\n",
    "new_y = old(x, position_embeddings=(cos, sin))[0]\n",
    "new_y.backward(dy)\n",
    "new_grad = deepcopy(x.grad)"
   ]
  },
  {
   "cell_type": "code",
   "execution_count": null,
   "metadata": {},
   "outputs": [
    {
     "name": "stderr",
     "output_type": "stream",
     "text": [
      "  0%|          | 0/512 [00:00<?, ?it/s]/mnt/workspace/mdy/miniforge/envs/mdy/lib/python3.10/site-packages/torch/autograd/graph.py:825: UserWarning: Attempting to run cuBLAS, but there was no current CUDA context! Attempting to set the primary context... (Triggered internally at ../aten/src/ATen/cuda/CublasHandlePool.cpp:135.)\n",
      "  return Variable._execution_engine.run_backward(  # Calls into the C++ engine to run the backward pass\n",
      " 69%|██████▉   | 353/512 [00:51<00:23,  6.78it/s]"
     ]
    }
   ],
   "source": [
    "torch.cuda.empty_cache()\n",
    "t = time.time()\n",
    "for i in tqdm(range(iters)):\n",
    "    old_y = old(x, position_embeddings=(cos,sin))[0]\n",
    "    old_y.backward(dy)\n",
    "t2 = time.time() - t\n",
    "t2"
   ]
  },
  {
   "cell_type": "code",
   "execution_count": 11,
   "metadata": {},
   "outputs": [
    {
     "data": {
      "text/plain": [
       "tensor([[-1.1953, -0.4570, -0.5195,  ..., -0.8477,  0.4590, -0.1885],\n",
       "        [-0.1123,  0.5000,  0.6367,  ...,  1.4531, -1.0469, -1.4531],\n",
       "        [-0.4531,  0.7734, -0.5117,  ...,  0.1670,  0.0508, -0.7305],\n",
       "        ...,\n",
       "        [-0.2012,  0.1729,  1.1719,  ..., -1.0234, -0.8516, -1.0234],\n",
       "        [ 0.6406,  0.0625, -0.0825,  ...,  0.5117,  0.1963,  0.2637],\n",
       "        [-0.5742, -0.4512,  1.4219,  ..., -2.5938,  0.4336, -0.4844]],\n",
       "       device='cuda:0', dtype=torch.bfloat16, grad_fn=<SelectBackward0>)"
      ]
     },
     "execution_count": 11,
     "metadata": {},
     "output_type": "execute_result"
    }
   ],
   "source": [
    "old_y[0]"
   ]
  },
  {
   "cell_type": "code",
   "execution_count": 12,
   "metadata": {},
   "outputs": [
    {
     "data": {
      "text/plain": [
       "tensor([[-1.1953, -0.4570, -0.5195,  ..., -0.8477,  0.4590, -0.1875],\n",
       "        [-0.1128,  0.5000,  0.6367,  ...,  1.4531, -1.0469, -1.4531],\n",
       "        [-0.4531,  0.7734, -0.5117,  ...,  0.1680,  0.0503, -0.7305],\n",
       "        ...,\n",
       "        [-0.2012,  0.1729,  1.1719,  ..., -1.0234, -0.8516, -1.0234],\n",
       "        [ 0.6406,  0.0623, -0.0825,  ...,  0.5117,  0.1953,  0.2637],\n",
       "        [-0.5742, -0.4512,  1.4219,  ..., -2.5938,  0.4336, -0.4824]],\n",
       "       device='cuda:0', dtype=torch.bfloat16, grad_fn=<SelectBackward0>)"
      ]
     },
     "execution_count": 12,
     "metadata": {},
     "output_type": "execute_result"
    }
   ],
   "source": [
    "new_y[0]"
   ]
  },
  {
   "cell_type": "code",
   "execution_count": 13,
   "metadata": {},
   "outputs": [
    {
     "data": {
      "text/plain": [
       "tensor([[ 1.2578, -0.6133,  0.4766,  ...,  0.2285, -0.2812, -2.7969],\n",
       "        [ 1.2344, -1.3203,  0.8867,  ...,  0.0474, -0.5078,  0.2852],\n",
       "        [-1.7734, -0.6367,  1.3516,  ...,  0.7344,  0.1299,  2.0000],\n",
       "        ...,\n",
       "        [ 0.1465,  0.7031,  0.2988,  ..., -1.1484,  0.8594, -1.3750],\n",
       "        [-0.7930, -1.7812, -0.7969,  ..., -0.2637,  0.8594,  0.6445],\n",
       "        [ 2.1250,  0.6328, -0.7852,  ...,  0.0801,  1.8281,  1.2500]],\n",
       "       device='cuda:0', dtype=torch.bfloat16)"
      ]
     },
     "execution_count": 13,
     "metadata": {},
     "output_type": "execute_result"
    }
   ],
   "source": [
    "old_grad[0]"
   ]
  },
  {
   "cell_type": "code",
   "execution_count": 14,
   "metadata": {},
   "outputs": [
    {
     "data": {
      "text/plain": [
       "tensor([[ 1.2578, -0.6055,  0.4688,  ...,  0.2256, -0.2852, -2.8125],\n",
       "        [ 1.2422, -1.3203,  0.8750,  ...,  0.0505, -0.5039,  0.3008],\n",
       "        [-1.7734, -0.6211,  1.3594,  ...,  0.7227,  0.1260,  1.9922],\n",
       "        ...,\n",
       "        [ 0.1592,  0.6992,  0.2891,  ..., -1.1484,  0.8555, -1.3828],\n",
       "        [-0.7969, -1.7812, -0.8086,  ..., -0.2578,  0.8750,  0.6523],\n",
       "        [ 2.1406,  0.6211, -0.7773,  ...,  0.0732,  1.8281,  1.2578]],\n",
       "       device='cuda:0', dtype=torch.bfloat16)"
      ]
     },
     "execution_count": 14,
     "metadata": {},
     "output_type": "execute_result"
    }
   ],
   "source": [
    "new_grad[0]"
   ]
  },
  {
   "cell_type": "code",
   "execution_count": null,
   "metadata": {},
   "outputs": [],
   "source": []
  }
 ],
 "metadata": {
  "kernelspec": {
   "display_name": "Python 3",
   "language": "python",
   "name": "python3"
  },
  "language_info": {
   "codemirror_mode": {
    "name": "ipython",
    "version": 3
   },
   "file_extension": ".py",
   "mimetype": "text/x-python",
   "name": "python",
   "nbconvert_exporter": "python",
   "pygments_lexer": "ipython3",
   "version": "3.10.13"
  }
 },
 "nbformat": 4,
 "nbformat_minor": 2
}
