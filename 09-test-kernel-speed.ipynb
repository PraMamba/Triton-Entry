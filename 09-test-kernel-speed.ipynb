{
 "cells": [
  {
   "cell_type": "markdown",
   "metadata": {},
   "source": [
    "- 有点乱，大家根据自己习惯瞎改改吧\n",
    "- kernel替换完成后，不可逆，需要刷新重启\n",
    "- 测试结果都是取得稳定状态下的迭代速度，大概在20步之后"
   ]
  },
  {
   "cell_type": "code",
   "execution_count": 2,
   "metadata": {},
   "outputs": [],
   "source": [
    "import os\n",
    "# os.environ['CUDA_VISIBLE_DEVICES'] = '7'\n",
    "import torch\n",
    "import sys\n",
    "import importlib\n",
    "# 如果测huggingface中没有模型，需要把路径导进来，不然import了kernel，使用AutoModel加载模型也没有用处\n",
    "sys.path.append('/mnt/workspace/mdy/models')\n",
    "module = importlib.import_module('glm-4-9b-chat.modeling_chatglm')\n",
    "from transformers import AutoConfig, AutoModelForCausalLM\n",
    "import time\n",
    "from copy import deepcopy\n",
    "from tqdm import tqdm"
   ]
  },
  {
   "cell_type": "code",
   "execution_count": 3,
   "metadata": {},
   "outputs": [
    {
     "name": "stderr",
     "output_type": "stream",
     "text": [
      "Loading checkpoint shards: 100%|██████████| 10/10 [00:09<00:00,  1.00it/s]\n"
     ]
    }
   ],
   "source": [
    "\n",
    "# config = AutoConfig.from_pretrained('/mnt/workspace/mdy/models/Qwen2.5-7B-Instruct')\n",
    "dtype = torch.bfloat16\n",
    "bs = 2\n",
    "seq_len = 1536\n",
    "iters = 50\n",
    "model_path = '/mnt/workspace/mdy/models/glm-4-9b-chat'\n",
    "# model_path = '/mnt/workspace/mdy/models/Qwen2.5-7B'\n",
    "# model_path = '/mnt/workspace/mdy/models/Llama-3.2-3B-Instruct'\n",
    "# model_path = '/mnt/workspace/mdy/models/Meta-Llama-3.1-8B-Instruct'\n",
    "\n",
    "model = AutoModelForCausalLM.from_pretrained(model_path,\n",
    "                                            _attn_implementation='flash_attention_2',\n",
    "                                           device_map='cuda', torch_dtype=dtype, trust_remote_code=True)\n",
    "# model = module.ChatGLMForConditionalGeneration.from_pretrained(model_path, _attn_implementation='flash_attention_2',\n",
    "#                                            device_map='cuda', torch_dtype=dtype, trust_remote_code=True)\n",
    "input_ids = torch.randint(10000, 20000, (bs, seq_len)).cuda()\n",
    "pos_ids = torch.arange(seq_len)[None, :].expand(bs, -1).contiguous().cuda()\n",
    "labels = input_ids\n",
    "grad_list = []\n",
    "for p in model.parameters():\n",
    "    grad_list.append(p)\n",
    "def zero_gard():\n",
    "    for p in grad_list:\n",
    "        if p.grad is not None:\n",
    "            p.grad.zero_()\n"
   ]
  },
  {
   "cell_type": "code",
   "execution_count": null,
   "metadata": {},
   "outputs": [
    {
     "name": "stderr",
     "output_type": "stream",
     "text": [
      "  0%|          | 0/50 [00:00<?, ?it/s]"
     ]
    },
    {
     "name": "stderr",
     "output_type": "stream",
     "text": [
      "100%|██████████| 50/50 [00:47<00:00,  1.05it/s]\n"
     ]
    },
    {
     "data": {
      "text/plain": [
       "47.69300603866577"
      ]
     },
     "execution_count": 4,
     "metadata": {},
     "output_type": "execute_result"
    }
   ],
   "source": [
    "torch.cuda.empty_cache()\n",
    "t = time.time()\n",
    "for i in tqdm(range(iters)):\n",
    "    out = model(input_ids, position_ids=pos_ids, labels=labels)\n",
    "    out.loss.backward()\n",
    "t1 = time.time() - t\n",
    "t1"
   ]
  },
  {
   "cell_type": "code",
   "execution_count": 5,
   "metadata": {},
   "outputs": [
    {
     "name": "stdout",
     "output_type": "stream",
     "text": [
      "tensor([-0.0024,  0.0112,  0.0121,  0.0072,  0.0044], device='cuda:0',\n",
      "       dtype=torch.bfloat16)\n"
     ]
    }
   ],
   "source": [
    "print(grad_list[10].grad[:5])\n",
    "zero_gard()"
   ]
  },
  {
   "cell_type": "code",
   "execution_count": 1,
   "metadata": {},
   "outputs": [
    {
     "name": "stderr",
     "output_type": "stream",
     "text": [
      "/mnt/workspace/mdy/miniforge/envs/mdy/lib/python3.10/site-packages/_distutils_hack/__init__.py:53: UserWarning: Reliance on distutils from stdlib is deprecated. Users must rely on setuptools to provide the distutils module. Avoid importing distutils or import setuptools first, and avoid setting SETUPTOOLS_USE_DISTUTILS=stdlib. Register concerns at https://github.com/pypa/setuptools/issues/new?template=distutils-deprecation.yml\n",
      "  warnings.warn(\n",
      "/mnt/workspace/mdy/miniforge/envs/mdy/lib/python3.10/site-packages/tqdm/auto.py:21: TqdmWarning: IProgress not found. Please update jupyter and ipywidgets. See https://ipywidgets.readthedocs.io/en/stable/user_install.html\n",
      "  from .autonotebook import tqdm as notebook_tqdm\n"
     ]
    }
   ],
   "source": [
    "from mdy_triton.replace_kernel import *"
   ]
  },
  {
   "cell_type": "code",
   "execution_count": null,
   "metadata": {},
   "outputs": [
    {
     "name": "stderr",
     "output_type": "stream",
     "text": [
      " 38%|███▊      | 19/50 [00:18<00:29,  1.07it/s]"
     ]
    }
   ],
   "source": [
    "torch.cuda.empty_cache()\n",
    "t = time.time()\n",
    "for i in tqdm(range(iters)):\n",
    "    out = model(input_ids, position_ids=pos_ids,labels=labels)\n",
    "    out.loss.backward()\n",
    "t2 = time.time() - t\n",
    "t2"
   ]
  },
  {
   "cell_type": "code",
   "execution_count": 9,
   "metadata": {},
   "outputs": [
    {
     "name": "stdout",
     "output_type": "stream",
     "text": [
      "tensor([-0.0006,  0.0011,  0.0007,  0.0013,  0.0005], device='cuda:0',\n",
      "       dtype=torch.bfloat16)\n"
     ]
    }
   ],
   "source": [
    "print(grad_list[10].grad[:5])\n",
    "zero_gard()"
   ]
  },
  {
   "cell_type": "code",
   "execution_count": null,
   "metadata": {},
   "outputs": [],
   "source": []
  },
  {
   "cell_type": "code",
   "execution_count": null,
   "metadata": {},
   "outputs": [],
   "source": []
  }
 ],
 "metadata": {
  "kernelspec": {
   "display_name": "Python 3",
   "language": "python",
   "name": "python3"
  },
  "language_info": {
   "codemirror_mode": {
    "name": "ipython",
    "version": 3
   },
   "file_extension": ".py",
   "mimetype": "text/x-python",
   "name": "python",
   "nbconvert_exporter": "python",
   "pygments_lexer": "ipython3",
   "version": "3.10.13"
  }
 },
 "nbformat": 4,
 "nbformat_minor": 2
}
