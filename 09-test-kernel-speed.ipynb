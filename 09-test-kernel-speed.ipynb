{
 "cells": [
  {
   "cell_type": "markdown",
   "metadata": {},
   "source": [
    "- 有点乱，大家根据自己习惯瞎改改吧\n",
    "- kernel替换完成后，不可逆，需要刷新重启\n",
    "- 测试结果都是取得稳定状态下的迭代速度，大概在20步之后"
   ]
  },
  {
   "cell_type": "code",
   "execution_count": 1,
   "metadata": {},
   "outputs": [
    {
     "name": "stderr",
     "output_type": "stream",
     "text": [
      "/mnt/workspace/mdy/miniforge/envs/mdy/lib/python3.10/site-packages/tqdm/auto.py:21: TqdmWarning: IProgress not found. Please update jupyter and ipywidgets. See https://ipywidgets.readthedocs.io/en/stable/user_install.html\n",
      "  from .autonotebook import tqdm as notebook_tqdm\n",
      "/mnt/workspace/mdy/miniforge/envs/mdy/lib/python3.10/site-packages/_distutils_hack/__init__.py:53: UserWarning: Reliance on distutils from stdlib is deprecated. Users must rely on setuptools to provide the distutils module. Avoid importing distutils or import setuptools first, and avoid setting SETUPTOOLS_USE_DISTUTILS=stdlib. Register concerns at https://github.com/pypa/setuptools/issues/new?template=distutils-deprecation.yml\n",
      "  warnings.warn(\n"
     ]
    }
   ],
   "source": [
    "import os\n",
    "# os.environ['CUDA_VISIBLE_DEVICES'] = '7'\n",
    "import torch\n",
    "import sys\n",
    "import importlib\n",
    "# 如果测huggingface中没有模型，需要把路径导进来，不然import了kernel，使用AutoModel加载模型也没有用处\n",
    "sys.path.append('/mnt/workspace/mdy/models')\n",
    "module = importlib.import_module('glm-4-9b-chat.modeling_chatglm')\n",
    "from transformers import AutoConfig, AutoModelForCausalLM\n",
    "import time\n",
    "from copy import deepcopy\n",
    "from tqdm import tqdm"
   ]
  },
  {
   "cell_type": "code",
   "execution_count": 2,
   "metadata": {},
   "outputs": [],
   "source": [
    "\n",
    "# config = AutoConfig.from_pretrained('/mnt/workspace/mdy/models/Qwen2.5-7B-Instruct')\n",
    "dtype = torch.bfloat16\n",
    "bs = 8\n",
    "seq_len = 2048\n",
    "iters = 50\n",
    "model_path = '/mnt/workspace/mdy/models/glm-4-9b-chat'\n",
    "model_path = '/mnt/workspace/mdy/models/Qwen2.5-0.5B'\n",
    "# model_path = '/mnt/workspace/mdy/models/Llama-3.2-1B-Instruct'\n",
    "# model_path = '/mnt/workspace/mdy/models/Meta-Llama-3.1-8B-Instruct'\n",
    "\n",
    "model = AutoModelForCausalLM.from_pretrained(model_path,\n",
    "                                            _attn_implementation='flash_attention_2',\n",
    "                                           device_map='cuda', torch_dtype=dtype, trust_remote_code=True)\n",
    "# model = module.ChatGLMForConditionalGeneration.from_pretrained(model_path, _attn_implementation='flash_attention_2',\n",
    "#                                            device_map='cuda', torch_dtype=dtype, trust_remote_code=True)\n",
    "input_ids = torch.randint(10000, 20000, (bs, seq_len)).cuda()\n",
    "pos_ids = torch.arange(seq_len)[None, :].expand(bs, -1).contiguous().cuda()\n",
    "labels = input_ids\n",
    "grad_list = []\n",
    "for p in model.parameters():\n",
    "    grad_list.append(p)\n",
    "def zero_gard():\n",
    "    for p in grad_list:\n",
    "        if p.grad is not None:\n",
    "            p.grad.zero_()\n"
   ]
  },
  {
   "cell_type": "code",
   "execution_count": 3,
   "metadata": {},
   "outputs": [
    {
     "name": "stderr",
     "output_type": "stream",
     "text": [
      "100%|██████████| 50/50 [00:25<00:00,  1.92it/s]\n"
     ]
    },
    {
     "data": {
      "text/plain": [
       "25.984844207763672"
      ]
     },
     "execution_count": 3,
     "metadata": {},
     "output_type": "execute_result"
    }
   ],
   "source": [
    "torch.cuda.empty_cache()\n",
    "t = time.time()\n",
    "for i in tqdm(range(iters)):\n",
    "    out = model(input_ids, position_ids=pos_ids, labels=labels)\n",
    "    out.loss.backward()\n",
    "t1 = time.time() - t\n",
    "t1"
   ]
  },
  {
   "cell_type": "code",
   "execution_count": 4,
   "metadata": {},
   "outputs": [
    {
     "name": "stdout",
     "output_type": "stream",
     "text": [
      "tensor([[ 0.0243,  0.0352, -0.0635,  ..., -0.0128,  0.0159, -0.0400],\n",
      "        [-0.0015, -0.0074,  0.0083,  ...,  0.0076,  0.0071,  0.0061],\n",
      "        [ 0.0243,  0.0206, -0.0703,  ..., -0.0151,  0.0304, -0.0129],\n",
      "        [ 0.0088, -0.0027, -0.0204,  ...,  0.0100,  0.0102, -0.0249],\n",
      "        [-0.0082, -0.0056, -0.0114,  ..., -0.0065,  0.0028, -0.0093]],\n",
      "       device='cuda:0', dtype=torch.bfloat16)\n"
     ]
    }
   ],
   "source": [
    "print(grad_list[10].grad[:5])\n",
    "zero_gard()"
   ]
  },
  {
   "cell_type": "code",
   "execution_count": 5,
   "metadata": {},
   "outputs": [],
   "source": [
    "from mdy_triton.replace_kernel import *"
   ]
  },
  {
   "cell_type": "code",
   "execution_count": 6,
   "metadata": {},
   "outputs": [
    {
     "name": "stderr",
     "output_type": "stream",
     "text": [
      "  0%|          | 0/50 [00:00<?, ?it/s]"
     ]
    },
    {
     "name": "stderr",
     "output_type": "stream",
     "text": [
      "100%|██████████| 50/50 [00:16<00:00,  3.07it/s]\n"
     ]
    },
    {
     "data": {
      "text/plain": [
       "16.31452441215515"
      ]
     },
     "execution_count": 6,
     "metadata": {},
     "output_type": "execute_result"
    }
   ],
   "source": [
    "torch.cuda.empty_cache()\n",
    "t = time.time()\n",
    "for i in tqdm(range(iters)):\n",
    "    out = model(input_ids, position_ids=pos_ids,labels=labels)\n",
    "    out.loss.backward()\n",
    "t2 = time.time() - t\n",
    "t2"
   ]
  },
  {
   "cell_type": "code",
   "execution_count": 7,
   "metadata": {},
   "outputs": [
    {
     "name": "stdout",
     "output_type": "stream",
     "text": [
      "tensor([[ 0.0222,  0.0312, -0.0381,  ..., -0.0076,  0.0101, -0.0306],\n",
      "        [ 0.0061,  0.0005, -0.0025,  ...,  0.0121,  0.0172, -0.0030],\n",
      "        [ 0.0038,  0.0204, -0.0703,  ..., -0.0114,  0.0200, -0.0184],\n",
      "        [ 0.0050, -0.0091,  0.0045,  ...,  0.0010, -0.0020, -0.0177],\n",
      "        [-0.0042,  0.0030,  0.0131,  ..., -0.0114, -0.0003, -0.0129]],\n",
      "       device='cuda:0', dtype=torch.bfloat16)\n"
     ]
    }
   ],
   "source": [
    "print(grad_list[10].grad[:5])\n",
    "zero_gard()"
   ]
  },
  {
   "cell_type": "code",
   "execution_count": null,
   "metadata": {},
   "outputs": [
    {
     "name": "stdout",
     "output_type": "stream",
     "text": [
      "logits显存占用： 4.9152 G\n"
     ]
    },
    {
     "name": "stderr",
     "output_type": "stream",
     "text": [
      "100%|██████████| 200/200 [00:22<00:00,  8.87it/s]\n"
     ]
    }
   ],
   "source": [
    "torch.cuda.empty_cache()\n",
    "bs = 16\n",
    "seq_len = 2048\n",
    "vocab_size = 150000\n",
    "print('logits显存占用：',(bs * seq_len * vocab_size) / 1e9 * 2,\"G\")\n",
    "logits = torch.randn(bs, seq_len, vocab_size, device='cuda', dtype=torch.float16)\n",
    "logits.requires_grad_(True)\n",
    "labels = torch.randint(0, vocab_size-1, (bs, seq_len)).cuda()\n",
    "labels[:, seq_len//2:] = -100\n",
    "for i in tqdm(range(200)):\n",
    "    shift_logits = logits[:, :-1].contiguous()\n",
    "    shift_labels = labels[:, 1:].contiguous()\n",
    "    loss_fn = torch.nn.CrossEntropyLoss()\n",
    "    loss = loss_fn(shift_logits.view(-1, vocab_size), shift_labels.view(-1))\n",
    "    loss.backward()\n",
    "# 峰值37G， 4倍logits，应该是logits+grad和softmax+grad。然而真正算loss的时候，需要转为float32，占用70G+\n",
    "# 0.12s/it"
   ]
  },
  {
   "cell_type": "code",
   "execution_count": null,
   "metadata": {},
   "outputs": [
    {
     "name": "stdout",
     "output_type": "stream",
     "text": [
      "logits显存占用： 4.9152 G\n"
     ]
    },
    {
     "name": "stderr",
     "output_type": "stream",
     "text": [
      "100%|██████████| 200/200 [00:03<00:00, 53.94it/s]\n"
     ]
    }
   ],
   "source": [
    "from mdy_triton.core import fast_cross_entropy_loss\n",
    "torch.cuda.empty_cache()\n",
    "bs = 16\n",
    "seq_len = 2048\n",
    "vocab_size = 150000\n",
    "print('logits显存占用：',(bs * seq_len * vocab_size) / 1e9 * 2,\"G\")\n",
    "extra_ignored_labels = torch.full((seq_len, 1), -100, device='cuda')\n",
    "logits = torch.randn(bs, seq_len, vocab_size, device='cuda', dtype=torch.float16)\n",
    "logits.requires_grad_(True)\n",
    "labels = torch.randint(0, vocab_size-1, (bs, seq_len)).cuda()\n",
    "labels[:, seq_len//2:] = -100\n",
    "for i in tqdm(range(200)):\n",
    "    shift_logits = logits\n",
    "    shift_labels = torch.hstack((labels[..., 1:], extra_ignored_labels[:labels.shape[0]]))\n",
    "    loss = fast_cross_entropy_loss(shift_logits, shift_labels)\n",
    "    loss.backward()\n",
    "# 重启运行\n",
    "# 峰值19G， 2倍logits，无softmax中间结果\n",
    "# 0.03s/it"
   ]
  },
  {
   "cell_type": "code",
   "execution_count": null,
   "metadata": {},
   "outputs": [],
   "source": []
  }
 ],
 "metadata": {
  "kernelspec": {
   "display_name": "Python 3",
   "language": "python",
   "name": "python3"
  },
  "language_info": {
   "codemirror_mode": {
    "name": "ipython",
    "version": 3
   },
   "file_extension": ".py",
   "mimetype": "text/x-python",
   "name": "python",
   "nbconvert_exporter": "python",
   "pygments_lexer": "ipython3",
   "version": "3.10.13"
  }
 },
 "nbformat": 4,
 "nbformat_minor": 2
}
